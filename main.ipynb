{
 "cells": [
  {
   "cell_type": "markdown",
   "metadata": {},
   "source": [
    "# Installing of necessary packages"
   ]
  },
  {
   "cell_type": "code",
   "execution_count": 1,
   "metadata": {},
   "outputs": [
    {
     "name": "stdout",
     "output_type": "stream",
     "text": [
      "Requirement already satisfied: langchain in c:\\users\\owent\\onedrive\\desktop\\projects\\.venv\\lib\\site-packages (from -r requirements.txt (line 1)) (0.3.13)\n",
      "Requirement already satisfied: langchain-experimental in c:\\users\\owent\\onedrive\\desktop\\projects\\.venv\\lib\\site-packages (from -r requirements.txt (line 2)) (0.3.4)\n",
      "Requirement already satisfied: langchain-community in c:\\users\\owent\\onedrive\\desktop\\projects\\.venv\\lib\\site-packages (from -r requirements.txt (line 3)) (0.3.13)\n",
      "Requirement already satisfied: faiss-cpu in c:\\users\\owent\\onedrive\\desktop\\projects\\.venv\\lib\\site-packages (from -r requirements.txt (line 4)) (1.9.0.post1)\n",
      "Requirement already satisfied: docx2txt in c:\\users\\owent\\onedrive\\desktop\\projects\\.venv\\lib\\site-packages (from -r requirements.txt (line 5)) (0.8)\n",
      "Requirement already satisfied: langchain-text-splitters in c:\\users\\owent\\onedrive\\desktop\\projects\\.venv\\lib\\site-packages (from -r requirements.txt (line 6)) (0.3.4)\n",
      "Requirement already satisfied: sentence-transformers in c:\\users\\owent\\onedrive\\desktop\\projects\\.venv\\lib\\site-packages (from -r requirements.txt (line 7)) (3.3.1)\n",
      "Requirement already satisfied: torch in c:\\users\\owent\\onedrive\\desktop\\projects\\.venv\\lib\\site-packages (from -r requirements.txt (line 8)) (2.5.1)\n",
      "Requirement already satisfied: PyYAML>=5.3 in c:\\users\\owent\\onedrive\\desktop\\projects\\.venv\\lib\\site-packages (from langchain->-r requirements.txt (line 1)) (6.0.2)\n",
      "Requirement already satisfied: SQLAlchemy<3,>=1.4 in c:\\users\\owent\\onedrive\\desktop\\projects\\.venv\\lib\\site-packages (from langchain->-r requirements.txt (line 1)) (2.0.36)\n",
      "Requirement already satisfied: aiohttp<4.0.0,>=3.8.3 in c:\\users\\owent\\onedrive\\desktop\\projects\\.venv\\lib\\site-packages (from langchain->-r requirements.txt (line 1)) (3.11.11)\n",
      "Requirement already satisfied: langchain-core<0.4.0,>=0.3.26 in c:\\users\\owent\\onedrive\\desktop\\projects\\.venv\\lib\\site-packages (from langchain->-r requirements.txt (line 1)) (0.3.28)\n",
      "Requirement already satisfied: langsmith<0.3,>=0.1.17 in c:\\users\\owent\\onedrive\\desktop\\projects\\.venv\\lib\\site-packages (from langchain->-r requirements.txt (line 1)) (0.2.4)\n",
      "Requirement already satisfied: numpy<3,>=1.26.2 in c:\\users\\owent\\onedrive\\desktop\\projects\\.venv\\lib\\site-packages (from langchain->-r requirements.txt (line 1)) (2.2.1)\n",
      "Requirement already satisfied: pydantic<3.0.0,>=2.7.4 in c:\\users\\owent\\onedrive\\desktop\\projects\\.venv\\lib\\site-packages (from langchain->-r requirements.txt (line 1)) (2.10.4)\n",
      "Requirement already satisfied: requests<3,>=2 in c:\\users\\owent\\onedrive\\desktop\\projects\\.venv\\lib\\site-packages (from langchain->-r requirements.txt (line 1)) (2.32.3)\n",
      "Requirement already satisfied: tenacity!=8.4.0,<10,>=8.1.0 in c:\\users\\owent\\onedrive\\desktop\\projects\\.venv\\lib\\site-packages (from langchain->-r requirements.txt (line 1)) (9.0.0)\n",
      "Requirement already satisfied: dataclasses-json<0.7,>=0.5.7 in c:\\users\\owent\\onedrive\\desktop\\projects\\.venv\\lib\\site-packages (from langchain-community->-r requirements.txt (line 3)) (0.6.7)\n",
      "Requirement already satisfied: httpx-sse<0.5.0,>=0.4.0 in c:\\users\\owent\\onedrive\\desktop\\projects\\.venv\\lib\\site-packages (from langchain-community->-r requirements.txt (line 3)) (0.4.0)\n",
      "Requirement already satisfied: pydantic-settings<3.0.0,>=2.4.0 in c:\\users\\owent\\onedrive\\desktop\\projects\\.venv\\lib\\site-packages (from langchain-community->-r requirements.txt (line 3)) (2.7.0)\n",
      "Requirement already satisfied: packaging in c:\\users\\owent\\onedrive\\desktop\\projects\\.venv\\lib\\site-packages (from faiss-cpu->-r requirements.txt (line 4)) (24.2)\n",
      "Requirement already satisfied: transformers<5.0.0,>=4.41.0 in c:\\users\\owent\\onedrive\\desktop\\projects\\.venv\\lib\\site-packages (from sentence-transformers->-r requirements.txt (line 7)) (4.47.1)\n",
      "Requirement already satisfied: tqdm in c:\\users\\owent\\onedrive\\desktop\\projects\\.venv\\lib\\site-packages (from sentence-transformers->-r requirements.txt (line 7)) (4.67.1)\n",
      "Requirement already satisfied: scikit-learn in c:\\users\\owent\\onedrive\\desktop\\projects\\.venv\\lib\\site-packages (from sentence-transformers->-r requirements.txt (line 7)) (1.6.0)\n",
      "Requirement already satisfied: scipy in c:\\users\\owent\\onedrive\\desktop\\projects\\.venv\\lib\\site-packages (from sentence-transformers->-r requirements.txt (line 7)) (1.14.1)\n",
      "Requirement already satisfied: huggingface-hub>=0.20.0 in c:\\users\\owent\\onedrive\\desktop\\projects\\.venv\\lib\\site-packages (from sentence-transformers->-r requirements.txt (line 7)) (0.27.0)\n",
      "Requirement already satisfied: Pillow in c:\\users\\owent\\onedrive\\desktop\\projects\\.venv\\lib\\site-packages (from sentence-transformers->-r requirements.txt (line 7)) (11.0.0)\n",
      "Requirement already satisfied: filelock in c:\\users\\owent\\onedrive\\desktop\\projects\\.venv\\lib\\site-packages (from torch->-r requirements.txt (line 8)) (3.16.1)\n",
      "Requirement already satisfied: typing-extensions>=4.8.0 in c:\\users\\owent\\onedrive\\desktop\\projects\\.venv\\lib\\site-packages (from torch->-r requirements.txt (line 8)) (4.12.2)\n",
      "Requirement already satisfied: networkx in c:\\users\\owent\\onedrive\\desktop\\projects\\.venv\\lib\\site-packages (from torch->-r requirements.txt (line 8)) (3.4.2)\n",
      "Requirement already satisfied: jinja2 in c:\\users\\owent\\onedrive\\desktop\\projects\\.venv\\lib\\site-packages (from torch->-r requirements.txt (line 8)) (3.1.5)\n",
      "Requirement already satisfied: fsspec in c:\\users\\owent\\onedrive\\desktop\\projects\\.venv\\lib\\site-packages (from torch->-r requirements.txt (line 8)) (2024.12.0)\n",
      "Requirement already satisfied: setuptools in c:\\users\\owent\\onedrive\\desktop\\projects\\.venv\\lib\\site-packages (from torch->-r requirements.txt (line 8)) (75.6.0)\n",
      "Requirement already satisfied: sympy==1.13.1 in c:\\users\\owent\\onedrive\\desktop\\projects\\.venv\\lib\\site-packages (from torch->-r requirements.txt (line 8)) (1.13.1)\n",
      "Requirement already satisfied: mpmath<1.4,>=1.1.0 in c:\\users\\owent\\onedrive\\desktop\\projects\\.venv\\lib\\site-packages (from sympy==1.13.1->torch->-r requirements.txt (line 8)) (1.3.0)\n",
      "Requirement already satisfied: aiohappyeyeballs>=2.3.0 in c:\\users\\owent\\onedrive\\desktop\\projects\\.venv\\lib\\site-packages (from aiohttp<4.0.0,>=3.8.3->langchain->-r requirements.txt (line 1)) (2.4.4)\n",
      "Requirement already satisfied: aiosignal>=1.1.2 in c:\\users\\owent\\onedrive\\desktop\\projects\\.venv\\lib\\site-packages (from aiohttp<4.0.0,>=3.8.3->langchain->-r requirements.txt (line 1)) (1.3.2)\n",
      "Requirement already satisfied: attrs>=17.3.0 in c:\\users\\owent\\onedrive\\desktop\\projects\\.venv\\lib\\site-packages (from aiohttp<4.0.0,>=3.8.3->langchain->-r requirements.txt (line 1)) (24.3.0)\n",
      "Requirement already satisfied: frozenlist>=1.1.1 in c:\\users\\owent\\onedrive\\desktop\\projects\\.venv\\lib\\site-packages (from aiohttp<4.0.0,>=3.8.3->langchain->-r requirements.txt (line 1)) (1.5.0)\n",
      "Requirement already satisfied: multidict<7.0,>=4.5 in c:\\users\\owent\\onedrive\\desktop\\projects\\.venv\\lib\\site-packages (from aiohttp<4.0.0,>=3.8.3->langchain->-r requirements.txt (line 1)) (6.1.0)\n",
      "Requirement already satisfied: propcache>=0.2.0 in c:\\users\\owent\\onedrive\\desktop\\projects\\.venv\\lib\\site-packages (from aiohttp<4.0.0,>=3.8.3->langchain->-r requirements.txt (line 1)) (0.2.1)\n",
      "Requirement already satisfied: yarl<2.0,>=1.17.0 in c:\\users\\owent\\onedrive\\desktop\\projects\\.venv\\lib\\site-packages (from aiohttp<4.0.0,>=3.8.3->langchain->-r requirements.txt (line 1)) (1.18.3)\n",
      "Requirement already satisfied: marshmallow<4.0.0,>=3.18.0 in c:\\users\\owent\\onedrive\\desktop\\projects\\.venv\\lib\\site-packages (from dataclasses-json<0.7,>=0.5.7->langchain-community->-r requirements.txt (line 3)) (3.23.2)\n",
      "Requirement already satisfied: typing-inspect<1,>=0.4.0 in c:\\users\\owent\\onedrive\\desktop\\projects\\.venv\\lib\\site-packages (from dataclasses-json<0.7,>=0.5.7->langchain-community->-r requirements.txt (line 3)) (0.9.0)\n",
      "Requirement already satisfied: jsonpatch<2.0,>=1.33 in c:\\users\\owent\\onedrive\\desktop\\projects\\.venv\\lib\\site-packages (from langchain-core<0.4.0,>=0.3.26->langchain->-r requirements.txt (line 1)) (1.33)\n",
      "Requirement already satisfied: httpx<1,>=0.23.0 in c:\\users\\owent\\onedrive\\desktop\\projects\\.venv\\lib\\site-packages (from langsmith<0.3,>=0.1.17->langchain->-r requirements.txt (line 1)) (0.28.1)\n",
      "Requirement already satisfied: orjson<4.0.0,>=3.9.14 in c:\\users\\owent\\onedrive\\desktop\\projects\\.venv\\lib\\site-packages (from langsmith<0.3,>=0.1.17->langchain->-r requirements.txt (line 1)) (3.10.12)\n",
      "Requirement already satisfied: requests-toolbelt<2.0.0,>=1.0.0 in c:\\users\\owent\\onedrive\\desktop\\projects\\.venv\\lib\\site-packages (from langsmith<0.3,>=0.1.17->langchain->-r requirements.txt (line 1)) (1.0.0)\n",
      "Requirement already satisfied: annotated-types>=0.6.0 in c:\\users\\owent\\onedrive\\desktop\\projects\\.venv\\lib\\site-packages (from pydantic<3.0.0,>=2.7.4->langchain->-r requirements.txt (line 1)) (0.7.0)\n",
      "Requirement already satisfied: pydantic-core==2.27.2 in c:\\users\\owent\\onedrive\\desktop\\projects\\.venv\\lib\\site-packages (from pydantic<3.0.0,>=2.7.4->langchain->-r requirements.txt (line 1)) (2.27.2)\n",
      "Requirement already satisfied: python-dotenv>=0.21.0 in c:\\users\\owent\\onedrive\\desktop\\projects\\.venv\\lib\\site-packages (from pydantic-settings<3.0.0,>=2.4.0->langchain-community->-r requirements.txt (line 3)) (1.0.1)\n",
      "Requirement already satisfied: charset-normalizer<4,>=2 in c:\\users\\owent\\onedrive\\desktop\\projects\\.venv\\lib\\site-packages (from requests<3,>=2->langchain->-r requirements.txt (line 1)) (3.4.0)\n",
      "Requirement already satisfied: idna<4,>=2.5 in c:\\users\\owent\\onedrive\\desktop\\projects\\.venv\\lib\\site-packages (from requests<3,>=2->langchain->-r requirements.txt (line 1)) (3.10)\n",
      "Requirement already satisfied: urllib3<3,>=1.21.1 in c:\\users\\owent\\onedrive\\desktop\\projects\\.venv\\lib\\site-packages (from requests<3,>=2->langchain->-r requirements.txt (line 1)) (2.3.0)\n",
      "Requirement already satisfied: certifi>=2017.4.17 in c:\\users\\owent\\onedrive\\desktop\\projects\\.venv\\lib\\site-packages (from requests<3,>=2->langchain->-r requirements.txt (line 1)) (2024.12.14)\n",
      "Requirement already satisfied: greenlet!=0.4.17 in c:\\users\\owent\\onedrive\\desktop\\projects\\.venv\\lib\\site-packages (from SQLAlchemy<3,>=1.4->langchain->-r requirements.txt (line 1)) (3.1.1)\n",
      "Requirement already satisfied: colorama in c:\\users\\owent\\onedrive\\desktop\\projects\\.venv\\lib\\site-packages (from tqdm->sentence-transformers->-r requirements.txt (line 7)) (0.4.6)\n",
      "Requirement already satisfied: regex!=2019.12.17 in c:\\users\\owent\\onedrive\\desktop\\projects\\.venv\\lib\\site-packages (from transformers<5.0.0,>=4.41.0->sentence-transformers->-r requirements.txt (line 7)) (2024.11.6)\n",
      "Requirement already satisfied: tokenizers<0.22,>=0.21 in c:\\users\\owent\\onedrive\\desktop\\projects\\.venv\\lib\\site-packages (from transformers<5.0.0,>=4.41.0->sentence-transformers->-r requirements.txt (line 7)) (0.21.0)\n",
      "Requirement already satisfied: safetensors>=0.4.1 in c:\\users\\owent\\onedrive\\desktop\\projects\\.venv\\lib\\site-packages (from transformers<5.0.0,>=4.41.0->sentence-transformers->-r requirements.txt (line 7)) (0.4.5)\n",
      "Requirement already satisfied: MarkupSafe>=2.0 in c:\\users\\owent\\onedrive\\desktop\\projects\\.venv\\lib\\site-packages (from jinja2->torch->-r requirements.txt (line 8)) (3.0.2)\n",
      "Requirement already satisfied: joblib>=1.2.0 in c:\\users\\owent\\onedrive\\desktop\\projects\\.venv\\lib\\site-packages (from scikit-learn->sentence-transformers->-r requirements.txt (line 7)) (1.4.2)\n",
      "Requirement already satisfied: threadpoolctl>=3.1.0 in c:\\users\\owent\\onedrive\\desktop\\projects\\.venv\\lib\\site-packages (from scikit-learn->sentence-transformers->-r requirements.txt (line 7)) (3.5.0)\n",
      "Requirement already satisfied: anyio in c:\\users\\owent\\onedrive\\desktop\\projects\\.venv\\lib\\site-packages (from httpx<1,>=0.23.0->langsmith<0.3,>=0.1.17->langchain->-r requirements.txt (line 1)) (4.7.0)\n",
      "Requirement already satisfied: httpcore==1.* in c:\\users\\owent\\onedrive\\desktop\\projects\\.venv\\lib\\site-packages (from httpx<1,>=0.23.0->langsmith<0.3,>=0.1.17->langchain->-r requirements.txt (line 1)) (1.0.7)\n",
      "Requirement already satisfied: h11<0.15,>=0.13 in c:\\users\\owent\\onedrive\\desktop\\projects\\.venv\\lib\\site-packages (from httpcore==1.*->httpx<1,>=0.23.0->langsmith<0.3,>=0.1.17->langchain->-r requirements.txt (line 1)) (0.14.0)\n",
      "Requirement already satisfied: jsonpointer>=1.9 in c:\\users\\owent\\onedrive\\desktop\\projects\\.venv\\lib\\site-packages (from jsonpatch<2.0,>=1.33->langchain-core<0.4.0,>=0.3.26->langchain->-r requirements.txt (line 1)) (3.0.0)\n",
      "Requirement already satisfied: mypy-extensions>=0.3.0 in c:\\users\\owent\\onedrive\\desktop\\projects\\.venv\\lib\\site-packages (from typing-inspect<1,>=0.4.0->dataclasses-json<0.7,>=0.5.7->langchain-community->-r requirements.txt (line 3)) (1.0.0)\n",
      "Requirement already satisfied: sniffio>=1.1 in c:\\users\\owent\\onedrive\\desktop\\projects\\.venv\\lib\\site-packages (from anyio->httpx<1,>=0.23.0->langsmith<0.3,>=0.1.17->langchain->-r requirements.txt (line 1)) (1.3.1)\n",
      "Note: you may need to restart the kernel to use updated packages.\n"
     ]
    }
   ],
   "source": [
    "%pip install -r requirements.txt"
   ]
  },
  {
   "cell_type": "markdown",
   "metadata": {},
   "source": [
    "# Loading of Documents"
   ]
  },
  {
   "cell_type": "code",
   "execution_count": 2,
   "metadata": {},
   "outputs": [
    {
     "data": {
      "text/plain": [
       "[Document(metadata={'source': 'Refund Policy Document.docx'}, page_content='Refunds and Return Policy\\n\\n1.\\xa0Application for Returns/Refunds\\n\\n\\xa0\\n\\nSubject to the terms and conditions in this Refunds and Return Policy and the Terms of Service, Buyer may apply for return of the purchased items (“Item”) and/or refund.\\n\\n\\xa0\\n\\nFor the avoidance of doubt, an application for a refund and/or return may be made whether prior to or after the expiry of the Shopee Guarantee Period as stated in the\\xa0Terms of Service. Users may communicate with each other privately to resolve their differences prior, during or after using Shopee Guarantee.\\n\\n\\xa0\\n\\n2.\\xa0Application for the Return of an Item\\n\\n\\xa0\\n\\nBuyer may only apply for\\n\\n(i) the refund of the Item where such Item has not been received by Buyer (“Unreceived Items”), or\\n\\n(ii) the refund and/or return of an Item received by Buyer (“Received Items”) in the following circumstances:\\n\\na) Buyer received an empty and/or suspicious parcel;\\n\\nb) The Item received was incomplete (missing quantity or accessories);\\n\\nc) Seller has delivered an Item that does not match the agreed specification (e.g. wrong size, colour, etc.) to Buyer;\\n\\nd) The Item was defective and/or faulty (e.g. does not work as intended);\\n\\ne) The Item received is an expired product;\\n\\nf) The Item received is a counterfeit product;\\n\\ng) The Item received has physical damage that was sustained during the delivery process (e.g shattered/broken Items, scratches/dents, damaged outer packaging, spilled liquid/contents);\\n\\nh) By way of private agreement with Seller and Seller must send his/her confirmation to Shopee confirming such agreement; and\\n\\ni) For change of mind provided that:\\n\\n\\xa0\\n\\ni. The Items listed by Shopee at\\xa0https://help.shopee.sg/portal/4/article/146601-[Return-Refund]-Change-of-Mind-Return-Policy?previousPage=search%20recommendation%20bar\\xa0\\xa0shall not be eligible for Change of Mind refunds and/or returns;\\n\\n\\xa0\\n\\nii. Refunds and/or returns of Mall Items shall be governed by the\\xa0Shopee Mall Terms of Service\\xa0in addition to this Refunds and Return Policy;\\n\\n\\xa0\\n\\niii. Where applicable, Items must be returned to Seller: (a) in original packaging, (b) with original tags/labels attached, (c) new, sealed, and with no signs of usage (i.e. no stains, damages or signs of washing), (d) containing all Items, as sent by Seller, including all free gifts; and (e) in compliance with any other criteria determined by Shopee from time to time; and\\n\\n\\xa0\\n\\niv. The change of mind program is subject to conditions and exclusions, as determined by Shopee from time to time, at its sole discretion.\\n\\nBuyer’s application must be submitted via the Shopee mobile app in accordance with Section 2.1 or 2.2 (as the case may be).\\n\\n\\xa0\\n\\nIn the event where Buyer has commenced legal action against Seller, Buyer may provide the formal notification from the appropriate authority to Shopee to request Shopee to continue to hold the purchase monies until a formal determination is available. Shopee will, at its sole and absolute discretion, determine whether it is necessary to continue to hold such purchase monies.\\n\\n\\xa0\\n\\n2.1\\xa0Received Items\\n\\n\\xa0\\n\\nBuyer may raise a refund and/or return request up to fifteen (15) days after (i) the day that the status on the Shopee app is updated as “Delivered” (in respect of a Received Item delivered by a third-party logistics partner identified on the Shopee platform as a “Shopee Supported Logistics partner” (“Shopee Supported Logistics Partner”), or (ii) the estimated delivery date (in respect of any other Received Item). Please note that, if required by Shopee, Buyer must (i) select their return shipping method on the Shopee app within three (3) days of being notified to do so, and (ii) ship the Received Item to the applicable return location for the selected return shipping method within seven (7) days after the return shipping method is selected. Non-compliance with such timeline will result in the automatic cancellation of Buyer’s refund and/or return request. The approval of your request for refund and/or return will be made by Shopee in its sole discretion, and shall be subject to your compliance with such conditions as may be specified by Shopee from time to time. Buyer acknowledges and agrees that Shopee’s decision is final, conclusive and binding, and covenants and agrees that it will not bring suit or otherwise assert any claim against Shopee or its affiliates in relation to such decision.\\n\\n\\xa0\\n\\n2.2\\xa0Unreceived Items\\n\\n\\xa0\\n\\nBuyer may raise a refund request in respect of Unreceived Items:\\n\\n(i) (in respect of Unreceived Items to be delivered by Shopee Supported Logistics Partners) where the expected delivery date has passed or the status of the Unreceived Item on the Shopee app has been updated as \"Delivered\", but Buyer has not received the Unreceived Item, and\\n\\n\\xa0\\n\\n(ii) (in respect of other Unreceived Items) at any time after the status of the Unreceived Item on the Shopee app has been updated as having been shipped out.\\n\\n\\xa0\\n\\nThe approval of your request for refund will be made by Shopee in its sole discretion, and shall be subject to your compliance with such conditions as may be specified by Shopee from time to time. Buyer acknowledges and agrees that Shopee’s decision is final, conclusive and binding, and covenants and agrees that it will not bring suit or otherwise assert any claim against Shopee or its affiliates in relation to such decision.\\n\\n\\xa0\\n\\n3.\\xa0Rights of Non-Mall Sellers\\n\\n\\xa0\\n\\nThis section shall apply to all Sellers other than Mall Sellers (“Non-Mall Sellers”).\\n\\n\\xa0\\n\\nShopee’s determination to approve a refund and/or return of an Item pursuant to Section 2 above is binding on the relevant Non-Mall Seller. Non-Mall Sellers agree to comply and do all such things as necessary to give effect to a Buyer’s request for a refund or return approved by Shopee.\\n\\n\\xa0\\n\\nWhere Shopee approves any refund or return request that is raised in-app via the dispute resolutions\\xa0centre (“Online Dispute”) or via webform after the Shopee Guarantee Period has elapsed (“Offline Dispute”), Non-Mall Seller may appeal such decision by contacting Shopee and providing evidence in support of such appeal. Any appeals must be made:(i)\\xa0in the case of Online Disputes:\\n\\n(where the request relates to a refund without return of the Item) within three (3) days of the date the Buyer is refunded; and\\xa0(where the request relates to the return and refund of an Item) within the Notification Period mentioned in the “Return Procedure” sub-section below, provided always that any dispute after the Buyer has been refunded may only be raised by Non-Mall Seller as an Offline Dispute; and\\n\\n\\xa0\\n\\n(ii) in the case of Offline Disputes, within one (1) month of the date the Buyer is refunded.If Shopee upholds Non-Mall Seller’s appeal, it will disburse all or part of the purchase monies to Non-Mall Seller. Non-Mall Seller acknowledges and agrees that Shopee’s decision is final, conclusive and binding, and covenants and agrees that it will not bring suit or otherwise assert any claim against Shopee or its affiliates in relation to such decision.\\n\\n\\xa0\\n\\nReturn Procedure\\n\\n\\xa0\\n\\nFor any refund and return request approved by Shopee, Shopee will notify the Seller by email (“Email Notification”) and organize the delivery of the relevant returned Item to the address provided by the relevant Seller to Shopee in writing for the completion of the refund and return process, so long as such address is in the country in which the relevant Item was listed for sale on the Site (a “Local Address”). If Seller fails to provide a Local Address for return of the returned Item or otherwise fails to accept delivery of the returned Item within a reasonable period of time (as determined by Shopee), Shopee reserves the right to dispose of such Item in any manner it sees fit and Seller shall be deemed to have forfeited all rights to such Item. Seller must notify Shopee to confirm or dispute receipt of the returned item within the earlier of (i) two (2) days after the status in Seller Centre has been updated as “Delivered”, and (ii) five (5) days after receiving the Email Notification (“Notification Period”) if Seller does not receive the returned Item. Failure to notify Shopee within the Notification Period shall be conclusive evidence of, and result in the Seller having accepted that, the delivery of the Item has occurred, and Seller agrees not to make any claims or raise any disputes regarding any such Item.\\n\\n\\xa0\\n\\nNotwithstanding the above, Shopee may determine at its sole and absolute discretion that an Item approved for refund and return shall not be returned to Seller, and Seller shall be deemed to have forfeited all rights to such Item.\\n\\n\\xa0\\n\\nFor any refund and return rejected by Shopee where the relevant Item was received by Shopee, Shopee will organize the delivery of such Item to the relevant Buyer’s address pursuant to Section 2 above.\\n\\n\\xa0\\n\\n4.\\xa0Condition of Returning Item\\n\\n\\xa0\\n\\nTo enjoy a hassle-free experience when returning the Item, Buyer should ensure that the Item, including any complimentary items such as accessories that come with the Item, must be returned to Seller in the condition received by Buyer on delivery. We will recommend Buyer to take a photo of the Item upon receipt.\\n\\n\\xa0\\n\\n5.\\xa0Liability for Product Return Shipping Fee\\n\\n\\xa0\\n\\n(i) Seller Fault Reasons: In the event that Shopee approves (at its sole discretion) a refund and/or return request for reasons that are attributable to Seller (as set out in Sections 2(ii)(a) to 2(ii)(f) above), Seller shall bear both (A) (if applicable) the total fees payable to the delivery company(ies) for returning the relevant Item(s) from Buyer to Shopee’s designated location, and from such location to the Seller (the “Return Shipping Fee”), in addition to (B) the Seller’s portion and the Buyer’s portion of the regular Shipping Fee (as defined in the Terms of Service) for the initial delivery of the Item(s) to the Buyer (“Forward Shipping Fee”).\\n\\n\\xa0\\n\\n(ii) Non-Seller Fault Reasons: In the event that Shopee approves (at its sole discretion) a refund and/or return request for reasons that are not attributable to Seller (as set out in Sections 2(i) and 2(ii) (g)/(h), Seller shall not be liable to bear any Forward Shipping Fee or (if applicable) Return Shipping Fee. (iii) In the event that Shopee rejects (at its sole discretion) a refund and/or return request, Seller shall continue to bear the Seller’s portion of the Forward Shipping Fee but shall not be liable to bear (if applicable) any Return Shipping Fee. (iv) Seller may, within 30 days of the initial delivery date of an Item (or the return delivery date for any returned Item, as the case may be), appeal against Shopee\\'s decision as to Seller\\'s liability for any Forward Shipping Fee or Return Shipping Fee, as the case may be. Seller acknowledges and agrees that Shopee\\'s decision is final, conclusive and binding, and covenants and agrees that it will not bring suit or otherwise assert any claim against Shopee or its affiliates in relation to such decision.\\n\\n(v) Seller acknowledges that the actual payment flow for the Forward Shipping Fee and/or the Return Shipping Fee may vary depending on various factors (including whether the Shopee Guarantee Period had expired and/or the Buyer’s Purchase Monies had been disbursed to the Seller, at the time that the refund and/or return request was approved).\\n\\n\\xa0\\n\\na. Accordingly, Shopee shall have sole discretion as to how to operationalise the discharge of Seller’s liability for the Forward Shipping Fee and/or the Return Shipping Fee (as determined in accordance with Sections 5(i) to 5(iii) above), including by way of crediting and/or debiting the Seller’s Seller Balance.\\n\\nb.\\xa0By way of example:\\n\\n\\xa0 \\xa0 i. where the Buyer’s Purchase Monies (less the Seller’s portion of the Forward Shipping Fee and other\\xa0fees/taxes) had not yet been released to Seller, and the approved refund and/or return request was for a Seller Fault Reason, then the (a) Buyer’s portion and Seller’s portion of the Forward Shipping Fee\\xa0and (ii) Return Shipping Fee may be debited from the Seller’s Seller Balance;\\n\\n\\xa0\\n\\n\\xa0 \\xa0 ii. where the Buyer’s Purchase Monies (less the Seller’s portion of the Forward Shipping Fee and other fees/taxes) had already been released to Seller, and the approved refund and/or return request was for:\\n\\n\\xa0\\n\\na Seller Fault Reason, then an amount equal to the Buyer’s Purchase Monies plus the Return Shipping Fee and the Buyer’s portion of the Forward Shipping Fee, may be debited from the Seller’s Seller Balance; or\\n\\n\\xa0\\n\\na Non-Seller Fault Reason, then [an amount equal to the Buyer’s Purchase Monies minus the Seller’s portion of the Forward Shipping Fee] may be debited from the Seller’s Seller Balance.\\n\\n(vi) \\xa0 \\xa0For the avoidance of doubt:\\n\\na. Sections 5(i) to 5(v) above only address the issue of liability and payment flows for the Forward Shipping Fee and/or Return Shipping Fee,\\xa0and shall not affect Seller’s liability for Transaction Fees\\xa0and/or any other fees (which shall remain governed by the Shopee Policies).\\n\\nb. Sections 5(i) to 5(v) do not address the issue of compensation for the value of the actual returned and/or returned Item if the Item is not in a returnable condition. Such compensation may be provided if Shopee decides to do so at its sole discretion (including where Shopee determines that the damage or non-delivery of the Item was caused by Shopee’s logistics service provider).\\n\\nc. Sections 5(i) to 5(v) above do not apply in respect of Items that are not delivered by Shopee Supported Logistics Partners.\\n\\n\\xa0\\n\\n\\xa0\\n\\n6.\\xa0Refunds\\n\\n\\xa0\\n\\nBuyer will only be refunded after Shopee has received the confirmation from Seller that Seller has received the returned Item, unless Shopee has elected to expedite such refund or does not require Buyer to return the Item. In the event where Shopee does not hear from Seller within a specified time, Shopee will be at liberty to refund the applicable sum to Buyer without further notice to Seller. The refund will be made to Buyer’s credit/debit card or designated bank account, whichever is applicable.\\xa0In the event that a request for a refund has been approved by Shopee and the purchase monies had already been disbursed to Seller, Shopee may deduct the necessary amount from the Seller’s Seller Balance in accordance with the Terms of Service.\\n\\n\\xa0\\n\\n7.\\xa0Communication Between Buyer and Seller\\n\\n\\xa0\\n\\nShopee encourages Users to communicate with each other in the event where a problem arises in a transaction. As Shopee is a platform for Users to conduct trading, Buyer should contact Seller directly for any issue relating to the Item purchased.\\n\\n\\xa0\\n\\nLast Updated: 19 June 2024')]"
      ]
     },
     "execution_count": 2,
     "metadata": {},
     "output_type": "execute_result"
    }
   ],
   "source": [
    "from langchain_community.document_loaders import Docx2txtLoader\n",
    "loader = Docx2txtLoader('Refund Policy Document.docx')\n",
    "data = loader.load()\n",
    "data"
   ]
  },
  {
   "cell_type": "code",
   "execution_count": 3,
   "metadata": {},
   "outputs": [
    {
     "data": {
      "text/plain": [
       "'Refunds and Return Policy\\n\\n1.\\xa0Application for Returns/Refunds\\n\\n\\xa0\\n\\nSubject to the terms and conditions in this Refunds and Return Policy and the Terms of Service, Buyer may apply for return of the purchased items (“Item”) and/or refund.\\n\\n\\xa0\\n\\nFor the avoidance of doubt, an application for a refund and/or return may be made whether prior to or after the expiry of the Shopee Guarantee Period as stated in the\\xa0Terms of Service. Users may communicate with each other privately to resolve their differences prior, during or after using Shopee Guarantee.\\n\\n\\xa0\\n\\n2.\\xa0Application for the Return of an Item\\n\\n\\xa0\\n\\nBuyer may only apply for\\n\\n(i) the refund of the Item where such Item has not been received by Buyer (“Unreceived Items”), or\\n\\n(ii) the refund and/or return of an Item received by Buyer (“Received Items”) in the following circumstances:\\n\\na) Buyer received an empty and/or suspicious parcel;\\n\\nb) The Item received was incomplete (missing quantity or accessories);\\n\\nc) Seller has delivered an Item that does not match the agreed specification (e.g. wrong size, colour, etc.) to Buyer;\\n\\nd) The Item was defective and/or faulty (e.g. does not work as intended);\\n\\ne) The Item received is an expired product;\\n\\nf) The Item received is a counterfeit product;\\n\\ng) The Item received has physical damage that was sustained during the delivery process (e.g shattered/broken Items, scratches/dents, damaged outer packaging, spilled liquid/contents);\\n\\nh) By way of private agreement with Seller and Seller must send his/her confirmation to Shopee confirming such agreement; and\\n\\ni) For change of mind provided that:\\n\\n\\xa0\\n\\ni. The Items listed by Shopee at\\xa0https://help.shopee.sg/portal/4/article/146601-[Return-Refund]-Change-of-Mind-Return-Policy?previousPage=search%20recommendation%20bar\\xa0\\xa0shall not be eligible for Change of Mind refunds and/or returns;\\n\\n\\xa0\\n\\nii. Refunds and/or returns of Mall Items shall be governed by the\\xa0Shopee Mall Terms of Service\\xa0in addition to this Refunds and Return Policy;\\n\\n\\xa0\\n\\niii. Where applicable, Items must be returned to Seller: (a) in original packaging, (b) with original tags/labels attached, (c) new, sealed, and with no signs of usage (i.e. no stains, damages or signs of washing), (d) containing all Items, as sent by Seller, including all free gifts; and (e) in compliance with any other criteria determined by Shopee from time to time; and\\n\\n\\xa0\\n\\niv. The change of mind program is subject to conditions and exclusions, as determined by Shopee from time to time, at its sole discretion.\\n\\nBuyer’s application must be submitted via the Shopee mobile app in accordance with Section 2.1 or 2.2 (as the case may be).\\n\\n\\xa0\\n\\nIn the event where Buyer has commenced legal action against Seller, Buyer may provide the formal notification from the appropriate authority to Shopee to request Shopee to continue to hold the purchase monies until a formal determination is available. Shopee will, at its sole and absolute discretion, determine whether it is necessary to continue to hold such purchase monies.\\n\\n\\xa0\\n\\n2.1\\xa0Received Items\\n\\n\\xa0\\n\\nBuyer may raise a refund and/or return request up to fifteen (15) days after (i) the day that the status on the Shopee app is updated as “Delivered” (in respect of a Received Item delivered by a third-party logistics partner identified on the Shopee platform as a “Shopee Supported Logistics partner” (“Shopee Supported Logistics Partner”), or (ii) the estimated delivery date (in respect of any other Received Item). Please note that, if required by Shopee, Buyer must (i) select their return shipping method on the Shopee app within three (3) days of being notified to do so, and (ii) ship the Received Item to the applicable return location for the selected return shipping method within seven (7) days after the return shipping method is selected. Non-compliance with such timeline will result in the automatic cancellation of Buyer’s refund and/or return request. The approval of your request for refund and/or return will be made by Shopee in its sole discretion, and shall be subject to your compliance with such conditions as may be specified by Shopee from time to time. Buyer acknowledges and agrees that Shopee’s decision is final, conclusive and binding, and covenants and agrees that it will not bring suit or otherwise assert any claim against Shopee or its affiliates in relation to such decision.\\n\\n\\xa0\\n\\n2.2\\xa0Unreceived Items\\n\\n\\xa0\\n\\nBuyer may raise a refund request in respect of Unreceived Items:\\n\\n(i) (in respect of Unreceived Items to be delivered by Shopee Supported Logistics Partners) where the expected delivery date has passed or the status of the Unreceived Item on the Shopee app has been updated as \"Delivered\", but Buyer has not received the Unreceived Item, and\\n\\n\\xa0\\n\\n(ii) (in respect of other Unreceived Items) at any time after the status of the Unreceived Item on the Shopee app has been updated as having been shipped out.\\n\\n\\xa0\\n\\nThe approval of your request for refund will be made by Shopee in its sole discretion, and shall be subject to your compliance with such conditions as may be specified by Shopee from time to time. Buyer acknowledges and agrees that Shopee’s decision is final, conclusive and binding, and covenants and agrees that it will not bring suit or otherwise assert any claim against Shopee or its affiliates in relation to such decision.\\n\\n\\xa0\\n\\n3.\\xa0Rights of Non-Mall Sellers\\n\\n\\xa0\\n\\nThis section shall apply to all Sellers other than Mall Sellers (“Non-Mall Sellers”).\\n\\n\\xa0\\n\\nShopee’s determination to approve a refund and/or return of an Item pursuant to Section 2 above is binding on the relevant Non-Mall Seller. Non-Mall Sellers agree to comply and do all such things as necessary to give effect to a Buyer’s request for a refund or return approved by Shopee.\\n\\n\\xa0\\n\\nWhere Shopee approves any refund or return request that is raised in-app via the dispute resolutions\\xa0centre (“Online Dispute”) or via webform after the Shopee Guarantee Period has elapsed (“Offline Dispute”), Non-Mall Seller may appeal such decision by contacting Shopee and providing evidence in support of such appeal. Any appeals must be made:(i)\\xa0in the case of Online Disputes:\\n\\n(where the request relates to a refund without return of the Item) within three (3) days of the date the Buyer is refunded; and\\xa0(where the request relates to the return and refund of an Item) within the Notification Period mentioned in the “Return Procedure” sub-section below, provided always that any dispute after the Buyer has been refunded may only be raised by Non-Mall Seller as an Offline Dispute; and\\n\\n\\xa0\\n\\n(ii) in the case of Offline Disputes, within one (1) month of the date the Buyer is refunded.If Shopee upholds Non-Mall Seller’s appeal, it will disburse all or part of the purchase monies to Non-Mall Seller. Non-Mall Seller acknowledges and agrees that Shopee’s decision is final, conclusive and binding, and covenants and agrees that it will not bring suit or otherwise assert any claim against Shopee or its affiliates in relation to such decision.\\n\\n\\xa0\\n\\nReturn Procedure\\n\\n\\xa0\\n\\nFor any refund and return request approved by Shopee, Shopee will notify the Seller by email (“Email Notification”) and organize the delivery of the relevant returned Item to the address provided by the relevant Seller to Shopee in writing for the completion of the refund and return process, so long as such address is in the country in which the relevant Item was listed for sale on the Site (a “Local Address”). If Seller fails to provide a Local Address for return of the returned Item or otherwise fails to accept delivery of the returned Item within a reasonable period of time (as determined by Shopee), Shopee reserves the right to dispose of such Item in any manner it sees fit and Seller shall be deemed to have forfeited all rights to such Item. Seller must notify Shopee to confirm or dispute receipt of the returned item within the earlier of (i) two (2) days after the status in Seller Centre has been updated as “Delivered”, and (ii) five (5) days after receiving the Email Notification (“Notification Period”) if Seller does not receive the returned Item. Failure to notify Shopee within the Notification Period shall be conclusive evidence of, and result in the Seller having accepted that, the delivery of the Item has occurred, and Seller agrees not to make any claims or raise any disputes regarding any such Item.\\n\\n\\xa0\\n\\nNotwithstanding the above, Shopee may determine at its sole and absolute discretion that an Item approved for refund and return shall not be returned to Seller, and Seller shall be deemed to have forfeited all rights to such Item.\\n\\n\\xa0\\n\\nFor any refund and return rejected by Shopee where the relevant Item was received by Shopee, Shopee will organize the delivery of such Item to the relevant Buyer’s address pursuant to Section 2 above.\\n\\n\\xa0\\n\\n4.\\xa0Condition of Returning Item\\n\\n\\xa0\\n\\nTo enjoy a hassle-free experience when returning the Item, Buyer should ensure that the Item, including any complimentary items such as accessories that come with the Item, must be returned to Seller in the condition received by Buyer on delivery. We will recommend Buyer to take a photo of the Item upon receipt.\\n\\n\\xa0\\n\\n5.\\xa0Liability for Product Return Shipping Fee\\n\\n\\xa0\\n\\n(i) Seller Fault Reasons: In the event that Shopee approves (at its sole discretion) a refund and/or return request for reasons that are attributable to Seller (as set out in Sections 2(ii)(a) to 2(ii)(f) above), Seller shall bear both (A) (if applicable) the total fees payable to the delivery company(ies) for returning the relevant Item(s) from Buyer to Shopee’s designated location, and from such location to the Seller (the “Return Shipping Fee”), in addition to (B) the Seller’s portion and the Buyer’s portion of the regular Shipping Fee (as defined in the Terms of Service) for the initial delivery of the Item(s) to the Buyer (“Forward Shipping Fee”).\\n\\n\\xa0\\n\\n(ii) Non-Seller Fault Reasons: In the event that Shopee approves (at its sole discretion) a refund and/or return request for reasons that are not attributable to Seller (as set out in Sections 2(i) and 2(ii) (g)/(h), Seller shall not be liable to bear any Forward Shipping Fee or (if applicable) Return Shipping Fee. (iii) In the event that Shopee rejects (at its sole discretion) a refund and/or return request, Seller shall continue to bear the Seller’s portion of the Forward Shipping Fee but shall not be liable to bear (if applicable) any Return Shipping Fee. (iv) Seller may, within 30 days of the initial delivery date of an Item (or the return delivery date for any returned Item, as the case may be), appeal against Shopee\\'s decision as to Seller\\'s liability for any Forward Shipping Fee or Return Shipping Fee, as the case may be. Seller acknowledges and agrees that Shopee\\'s decision is final, conclusive and binding, and covenants and agrees that it will not bring suit or otherwise assert any claim against Shopee or its affiliates in relation to such decision.\\n\\n(v) Seller acknowledges that the actual payment flow for the Forward Shipping Fee and/or the Return Shipping Fee may vary depending on various factors (including whether the Shopee Guarantee Period had expired and/or the Buyer’s Purchase Monies had been disbursed to the Seller, at the time that the refund and/or return request was approved).\\n\\n\\xa0\\n\\na. Accordingly, Shopee shall have sole discretion as to how to operationalise the discharge of Seller’s liability for the Forward Shipping Fee and/or the Return Shipping Fee (as determined in accordance with Sections 5(i) to 5(iii) above), including by way of crediting and/or debiting the Seller’s Seller Balance.\\n\\nb.\\xa0By way of example:\\n\\n\\xa0 \\xa0 i. where the Buyer’s Purchase Monies (less the Seller’s portion of the Forward Shipping Fee and other\\xa0fees/taxes) had not yet been released to Seller, and the approved refund and/or return request was for a Seller Fault Reason, then the (a) Buyer’s portion and Seller’s portion of the Forward Shipping Fee\\xa0and (ii) Return Shipping Fee may be debited from the Seller’s Seller Balance;\\n\\n\\xa0\\n\\n\\xa0 \\xa0 ii. where the Buyer’s Purchase Monies (less the Seller’s portion of the Forward Shipping Fee and other fees/taxes) had already been released to Seller, and the approved refund and/or return request was for:\\n\\n\\xa0\\n\\na Seller Fault Reason, then an amount equal to the Buyer’s Purchase Monies plus the Return Shipping Fee and the Buyer’s portion of the Forward Shipping Fee, may be debited from the Seller’s Seller Balance; or\\n\\n\\xa0\\n\\na Non-Seller Fault Reason, then [an amount equal to the Buyer’s Purchase Monies minus the Seller’s portion of the Forward Shipping Fee] may be debited from the Seller’s Seller Balance.\\n\\n(vi) \\xa0 \\xa0For the avoidance of doubt:\\n\\na. Sections 5(i) to 5(v) above only address the issue of liability and payment flows for the Forward Shipping Fee and/or Return Shipping Fee,\\xa0and shall not affect Seller’s liability for Transaction Fees\\xa0and/or any other fees (which shall remain governed by the Shopee Policies).\\n\\nb. Sections 5(i) to 5(v) do not address the issue of compensation for the value of the actual returned and/or returned Item if the Item is not in a returnable condition. Such compensation may be provided if Shopee decides to do so at its sole discretion (including where Shopee determines that the damage or non-delivery of the Item was caused by Shopee’s logistics service provider).\\n\\nc. Sections 5(i) to 5(v) above do not apply in respect of Items that are not delivered by Shopee Supported Logistics Partners.\\n\\n\\xa0\\n\\n\\xa0\\n\\n6.\\xa0Refunds\\n\\n\\xa0\\n\\nBuyer will only be refunded after Shopee has received the confirmation from Seller that Seller has received the returned Item, unless Shopee has elected to expedite such refund or does not require Buyer to return the Item. In the event where Shopee does not hear from Seller within a specified time, Shopee will be at liberty to refund the applicable sum to Buyer without further notice to Seller. The refund will be made to Buyer’s credit/debit card or designated bank account, whichever is applicable.\\xa0In the event that a request for a refund has been approved by Shopee and the purchase monies had already been disbursed to Seller, Shopee may deduct the necessary amount from the Seller’s Seller Balance in accordance with the Terms of Service.\\n\\n\\xa0\\n\\n7.\\xa0Communication Between Buyer and Seller\\n\\n\\xa0\\n\\nShopee encourages Users to communicate with each other in the event where a problem arises in a transaction. As Shopee is a platform for Users to conduct trading, Buyer should contact Seller directly for any issue relating to the Item purchased.\\n\\n\\xa0\\n\\nLast Updated: 19 June 2024'"
      ]
     },
     "execution_count": 3,
     "metadata": {},
     "output_type": "execute_result"
    }
   ],
   "source": [
    "data[0].page_content"
   ]
  },
  {
   "cell_type": "code",
   "execution_count": 4,
   "metadata": {},
   "outputs": [],
   "source": [
    "# from langchain_text_splitters import RecursiveCharacterTextSplitter\n",
    "\n",
    "# text_splitter = RecursiveCharacterTextSplitter(\n",
    "#     chunk_size = 1000,\n",
    "#     chunk_overlap = 50,\n",
    "#     length_function = len\n",
    "#     # Existing args\n",
    "# )\n",
    "\n",
    "# documents = text_splitter.split_documents(data)\n",
    "\n",
    "# documents"
   ]
  },
  {
   "cell_type": "code",
   "execution_count": 5,
   "metadata": {},
   "outputs": [
    {
     "name": "stderr",
     "output_type": "stream",
     "text": [
      "C:\\Users\\Owent\\AppData\\Local\\Temp\\ipykernel_29684\\1165599744.py:4: LangChainDeprecationWarning: The class `HuggingFaceEmbeddings` was deprecated in LangChain 0.2.2 and will be removed in 1.0. An updated version of the class exists in the :class:`~langchain-huggingface package and should be used instead. To use it run `pip install -U :class:`~langchain-huggingface` and import as `from :class:`~langchain_huggingface import HuggingFaceEmbeddings``.\n",
      "  text_splitter = SemanticChunker(HuggingFaceEmbeddings())\n",
      "C:\\Users\\Owent\\AppData\\Local\\Temp\\ipykernel_29684\\1165599744.py:4: LangChainDeprecationWarning: Default values for HuggingFaceEmbeddings.model_name were deprecated in LangChain 0.2.16 and will be removed in 0.4.0. Explicitly pass a model_name to the HuggingFaceEmbeddings constructor instead.\n",
      "  text_splitter = SemanticChunker(HuggingFaceEmbeddings())\n",
      "c:\\Users\\Owent\\OneDrive\\Desktop\\Projects\\.venv\\Lib\\site-packages\\tqdm\\auto.py:21: TqdmWarning: IProgress not found. Please update jupyter and ipywidgets. See https://ipywidgets.readthedocs.io/en/stable/user_install.html\n",
      "  from .autonotebook import tqdm as notebook_tqdm\n"
     ]
    }
   ],
   "source": [
    "from langchain_experimental.text_splitter import SemanticChunker\n",
    "from langchain.embeddings import HuggingFaceEmbeddings\n",
    "\n",
    "text_splitter = SemanticChunker(HuggingFaceEmbeddings())\n",
    "documents = text_splitter.split_documents(data)"
   ]
  },
  {
   "cell_type": "code",
   "execution_count": 6,
   "metadata": {},
   "outputs": [
    {
     "name": "stdout",
     "output_type": "stream",
     "text": [
      "Number of chunks created:  5\n",
      "\n",
      "CHUNK : 1\n",
      "Refunds and Return Policy\n",
      "\n",
      "1. Application for Returns/Refunds\n",
      "\n",
      " \n",
      "\n",
      "Subject to the terms and conditions in this Refunds and Return Policy and the Terms of Service, Buyer may apply for return of the purchased items (“Item”) and/or refund. For the avoidance of doubt, an application for a refund and/or return may be made whether prior to or after the expiry of the Shopee Guarantee Period as stated in the Terms of Service. Users may communicate with each other privately to resolve their differences prior, during or after using Shopee Guarantee. 2. Application for the Return of an Item\n",
      "\n",
      " \n",
      "\n",
      "Buyer may only apply for\n",
      "\n",
      "(i) the refund of the Item where such Item has not been received by Buyer (“Unreceived Items”), or\n",
      "\n",
      "(ii) the refund and/or return of an Item received by Buyer (“Received Items”) in the following circumstances:\n",
      "\n",
      "a) Buyer received an empty and/or suspicious parcel;\n",
      "\n",
      "b) The Item received was incomplete (missing quantity or accessories);\n",
      "\n",
      "c) Seller has delivered an Item that does not match the agreed specification (e.g. wrong size, colour, etc.) to Buyer;\n",
      "\n",
      "d) The Item was defective and/or faulty (e.g. does not work as intended);\n",
      "\n",
      "e) The Item received is an expired product;\n",
      "\n",
      "f) The Item received is a counterfeit product;\n",
      "\n",
      "g) The Item received has physical damage that was sustained during the delivery process (e.g shattered/broken Items, scratches/dents, damaged outer packaging, spilled liquid/contents);\n",
      "\n",
      "h) By way of private agreement with Seller and Seller must send his/her confirmation to Shopee confirming such agreement; and\n",
      "\n",
      "i) For change of mind provided that:\n",
      "\n",
      " \n",
      "\n",
      "i. The Items listed by Shopee at https://help.shopee.sg/portal/4/article/146601-[Return-Refund]-Change-of-Mind-Return-Policy?previousPage=search%20recommendation%20bar  shall not be eligible for Change of Mind refunds and/or returns;\n",
      "\n",
      " \n",
      "\n",
      "ii. Refunds and/or returns of Mall Items shall be governed by the Shopee Mall Terms of Service in addition to this Refunds and Return Policy;\n",
      "\n",
      " \n",
      "\n",
      "iii. Where applicable, Items must be returned to Seller: (a) in original packaging, (b) with original tags/labels attached, (c) new, sealed, and with no signs of usage (i.e. no stains, damages or signs of washing), (d) containing all Items, as sent by Seller, including all free gifts; and (e) in compliance with any other criteria determined by Shopee from time to time; and\n",
      "\n",
      " \n",
      "\n",
      "iv. The change of mind program is subject to conditions and exclusions, as determined by Shopee from time to time, at its sole discretion. Buyer’s application must be submitted via the Shopee mobile app in accordance with Section 2.1 or 2.2 (as the case may be). In the event where Buyer has commenced legal action against Seller, Buyer may provide the formal notification from the appropriate authority to Shopee to request Shopee to continue to hold the purchase monies until a formal determination is available. Shopee will, at its sole and absolute discretion, determine whether it is necessary to continue to hold such purchase monies. 2.1 Received Items\n",
      "\n",
      " \n",
      "\n",
      "Buyer may raise a refund and/or return request up to fifteen (15) days after (i) the day that the status on the Shopee app is updated as “Delivered” (in respect of a Received Item delivered by a third-party logistics partner identified on the Shopee platform as a “Shopee Supported Logistics partner” (“Shopee Supported Logistics Partner”), or (ii) the estimated delivery date (in respect of any other Received Item). Please note that, if required by Shopee, Buyer must (i) select their return shipping method on the Shopee app within three (3) days of being notified to do so, and (ii) ship the Received Item to the applicable return location for the selected return shipping method within seven (7) days after the return shipping method is selected. Non-compliance with such timeline will result in the automatic cancellation of Buyer’s refund and/or return request.\n",
      "\n",
      "CHUNK : 2\n",
      "The approval of your request for refund and/or return will be made by Shopee in its sole discretion, and shall be subject to your compliance with such conditions as may be specified by Shopee from time to time.\n",
      "\n",
      "CHUNK : 3\n",
      "Buyer acknowledges and agrees that Shopee’s decision is final, conclusive and binding, and covenants and agrees that it will not bring suit or otherwise assert any claim against Shopee or its affiliates in relation to such decision. 2.2 Unreceived Items\n",
      "\n",
      " \n",
      "\n",
      "Buyer may raise a refund request in respect of Unreceived Items:\n",
      "\n",
      "(i) (in respect of Unreceived Items to be delivered by Shopee Supported Logistics Partners) where the expected delivery date has passed or the status of the Unreceived Item on the Shopee app has been updated as \"Delivered\", but Buyer has not received the Unreceived Item, and\n",
      "\n",
      " \n",
      "\n",
      "(ii) (in respect of other Unreceived Items) at any time after the status of the Unreceived Item on the Shopee app has been updated as having been shipped out. The approval of your request for refund will be made by Shopee in its sole discretion, and shall be subject to your compliance with such conditions as may be specified by Shopee from time to time. Buyer acknowledges and agrees that Shopee’s decision is final, conclusive and binding, and covenants and agrees that it will not bring suit or otherwise assert any claim against Shopee or its affiliates in relation to such decision. 3. Rights of Non-Mall Sellers\n",
      "\n",
      " \n",
      "\n",
      "This section shall apply to all Sellers other than Mall Sellers (“Non-Mall Sellers”). Shopee’s determination to approve a refund and/or return of an Item pursuant to Section 2 above is binding on the relevant Non-Mall Seller. Non-Mall Sellers agree to comply and do all such things as necessary to give effect to a Buyer’s request for a refund or return approved by Shopee. Where Shopee approves any refund or return request that is raised in-app via the dispute resolutions centre (“Online Dispute”) or via webform after the Shopee Guarantee Period has elapsed (“Offline Dispute”), Non-Mall Seller may appeal such decision by contacting Shopee and providing evidence in support of such appeal. Any appeals must be made:(i) in the case of Online Disputes:\n",
      "\n",
      "(where the request relates to a refund without return of the Item) within three (3) days of the date the Buyer is refunded; and (where the request relates to the return and refund of an Item) within the Notification Period mentioned in the “Return Procedure” sub-section below, provided always that any dispute after the Buyer has been refunded may only be raised by Non-Mall Seller as an Offline Dispute; and\n",
      "\n",
      " \n",
      "\n",
      "(ii) in the case of Offline Disputes, within one (1) month of the date the Buyer is refunded.If Shopee upholds Non-Mall Seller’s appeal, it will disburse all or part of the purchase monies to Non-Mall Seller. Non-Mall Seller acknowledges and agrees that Shopee’s decision is final, conclusive and binding, and covenants and agrees that it will not bring suit or otherwise assert any claim against Shopee or its affiliates in relation to such decision. Return Procedure\n",
      "\n",
      " \n",
      "\n",
      "For any refund and return request approved by Shopee, Shopee will notify the Seller by email (“Email Notification”) and organize the delivery of the relevant returned Item to the address provided by the relevant Seller to Shopee in writing for the completion of the refund and return process, so long as such address is in the country in which the relevant Item was listed for sale on the Site (a “Local Address”). If Seller fails to provide a Local Address for return of the returned Item or otherwise fails to accept delivery of the returned Item within a reasonable period of time (as determined by Shopee), Shopee reserves the right to dispose of such Item in any manner it sees fit and Seller shall be deemed to have forfeited all rights to such Item. Seller must notify Shopee to confirm or dispute receipt of the returned item within the earlier of (i) two (2) days after the status in Seller Centre has been updated as “Delivered”, and (ii) five (5) days after receiving the Email Notification (“Notification Period”) if Seller does not receive the returned Item. Failure to notify Shopee within the Notification Period shall be conclusive evidence of, and result in the Seller having accepted that, the delivery of the Item has occurred, and Seller agrees not to make any claims or raise any disputes regarding any such Item. Notwithstanding the above, Shopee may determine at its sole and absolute discretion that an Item approved for refund and return shall not be returned to Seller, and Seller shall be deemed to have forfeited all rights to such Item. For any refund and return rejected by Shopee where the relevant Item was received by Shopee, Shopee will organize the delivery of such Item to the relevant Buyer’s address pursuant to Section 2 above. 4. Condition of Returning Item\n",
      "\n",
      " \n",
      "\n",
      "To enjoy a hassle-free experience when returning the Item, Buyer should ensure that the Item, including any complimentary items such as accessories that come with the Item, must be returned to Seller in the condition received by Buyer on delivery. We will recommend Buyer to take a photo of the Item upon receipt.\n",
      "\n",
      "CHUNK : 4\n",
      "5. Liability for Product Return Shipping Fee\n",
      "\n",
      " \n",
      "\n",
      "(i) Seller Fault Reasons: In the event that Shopee approves (at its sole discretion) a refund and/or return request for reasons that are attributable to Seller (as set out in Sections 2(ii)(a) to 2(ii)(f) above), Seller shall bear both (A) (if applicable) the total fees payable to the delivery company(ies) for returning the relevant Item(s) from Buyer to Shopee’s designated location, and from such location to the Seller (the “Return Shipping Fee”), in addition to (B) the Seller’s portion and the Buyer’s portion of the regular Shipping Fee (as defined in the Terms of Service) for the initial delivery of the Item(s) to the Buyer (“Forward Shipping Fee”). (ii) Non-Seller Fault Reasons: In the event that Shopee approves (at its sole discretion) a refund and/or return request for reasons that are not attributable to Seller (as set out in Sections 2(i) and 2(ii) (g)/(h), Seller shall not be liable to bear any Forward Shipping Fee or (if applicable) Return Shipping Fee. (iii) In the event that Shopee rejects (at its sole discretion) a refund and/or return request, Seller shall continue to bear the Seller’s portion of the Forward Shipping Fee but shall not be liable to bear (if applicable) any Return Shipping Fee. (iv) Seller may, within 30 days of the initial delivery date of an Item (or the return delivery date for any returned Item, as the case may be), appeal against Shopee's decision as to Seller's liability for any Forward Shipping Fee or Return Shipping Fee, as the case may be. Seller acknowledges and agrees that Shopee's decision is final, conclusive and binding, and covenants and agrees that it will not bring suit or otherwise assert any claim against Shopee or its affiliates in relation to such decision. (v) Seller acknowledges that the actual payment flow for the Forward Shipping Fee and/or the Return Shipping Fee may vary depending on various factors (including whether the Shopee Guarantee Period had expired and/or the Buyer’s Purchase Monies had been disbursed to the Seller, at the time that the refund and/or return request was approved). a. Accordingly, Shopee shall have sole discretion as to how to operationalise the discharge of Seller’s liability for the Forward Shipping Fee and/or the Return Shipping Fee (as determined in accordance with Sections 5(i) to 5(iii) above), including by way of crediting and/or debiting the Seller’s Seller Balance. b. By way of example:\n",
      "\n",
      "    i. where the Buyer’s Purchase Monies (less the Seller’s portion of the Forward Shipping Fee and other fees/taxes) had not yet been released to Seller, and the approved refund and/or return request was for a Seller Fault Reason, then the (a) Buyer’s portion and Seller’s portion of the Forward Shipping Fee and (ii) Return Shipping Fee may be debited from the Seller’s Seller Balance;\n",
      "\n",
      " \n",
      "\n",
      "    ii. where the Buyer’s Purchase Monies (less the Seller’s portion of the Forward Shipping Fee and other fees/taxes) had already been released to Seller, and the approved refund and/or return request was for:\n",
      "\n",
      " \n",
      "\n",
      "a Seller Fault Reason, then an amount equal to the Buyer’s Purchase Monies plus the Return Shipping Fee and the Buyer’s portion of the Forward Shipping Fee, may be debited from the Seller’s Seller Balance; or\n",
      "\n",
      " \n",
      "\n",
      "a Non-Seller Fault Reason, then [an amount equal to the Buyer’s Purchase Monies minus the Seller’s portion of the Forward Shipping Fee] may be debited from the Seller’s Seller Balance. (vi)    For the avoidance of doubt:\n",
      "\n",
      "a. Sections 5(i) to 5(v) above only address the issue of liability and payment flows for the Forward Shipping Fee and/or Return Shipping Fee, and shall not affect Seller’s liability for Transaction Fees and/or any other fees (which shall remain governed by the Shopee Policies). b. Sections 5(i) to 5(v) do not address the issue of compensation for the value of the actual returned and/or returned Item if the Item is not in a returnable condition. Such compensation may be provided if Shopee decides to do so at its sole discretion (including where Shopee determines that the damage or non-delivery of the Item was caused by Shopee’s logistics service provider). c. Sections 5(i) to 5(v) above do not apply in respect of Items that are not delivered by Shopee Supported Logistics Partners. 6. Refunds\n",
      "\n",
      " \n",
      "\n",
      "Buyer will only be refunded after Shopee has received the confirmation from Seller that Seller has received the returned Item, unless Shopee has elected to expedite such refund or does not require Buyer to return the Item. In the event where Shopee does not hear from Seller within a specified time, Shopee will be at liberty to refund the applicable sum to Buyer without further notice to Seller. The refund will be made to Buyer’s credit/debit card or designated bank account, whichever is applicable. In the event that a request for a refund has been approved by Shopee and the purchase monies had already been disbursed to Seller, Shopee may deduct the necessary amount from the Seller’s Seller Balance in accordance with the Terms of Service. 7.\n",
      "\n",
      "CHUNK : 5\n",
      "Communication Between Buyer and Seller\n",
      "\n",
      " \n",
      "\n",
      "Shopee encourages Users to communicate with each other in the event where a problem arises in a transaction. As Shopee is a platform for Users to conduct trading, Buyer should contact Seller directly for any issue relating to the Item purchased. Last Updated: 19 June 2024\n"
     ]
    }
   ],
   "source": [
    "print(\"Number of chunks created: \", len(documents))\n",
    "\n",
    "for i in range(len(documents)):\n",
    "    print()\n",
    "    print(f\"CHUNK : {i+1}\")\n",
    "    print(documents[i].page_content)"
   ]
  },
  {
   "cell_type": "markdown",
   "metadata": {},
   "source": [
    "# Creating of Chat model"
   ]
  },
  {
   "cell_type": "code",
   "execution_count": 7,
   "metadata": {},
   "outputs": [
    {
     "name": "stderr",
     "output_type": "stream",
     "text": [
      "C:\\Users\\Owent\\AppData\\Local\\Temp\\ipykernel_29684\\2495835858.py:5: LangChainDeprecationWarning: Default values for HuggingFaceEmbeddings.model_name were deprecated in LangChain 0.2.16 and will be removed in 0.4.0. Explicitly pass a model_name to the HuggingFaceEmbeddings constructor instead.\n",
      "  embedder = HuggingFaceEmbeddings()\n"
     ]
    }
   ],
   "source": [
    "from langchain_community.embeddings import HuggingFaceEmbeddings\n",
    "from langchain_community.vectorstores import FAISS\n",
    "\n",
    "# Instantiate the embedding model\n",
    "embedder = HuggingFaceEmbeddings()\n",
    "\n",
    "# Create the vector store \n",
    "vector = FAISS.from_documents(documents, embedder)"
   ]
  },
  {
   "cell_type": "code",
   "execution_count": null,
   "metadata": {},
   "outputs": [],
   "source": [
    "retriever = vector.as_retriever(search_type=\"similarity\", search_kwargs={\"k\": 2})\n",
    "# retrieved_docs = retriever.invoke(\"What is the refund policy?\")\n",
    "\n",
    "# print(retrieved_docs[0])"
   ]
  },
  {
   "cell_type": "code",
   "execution_count": 9,
   "metadata": {},
   "outputs": [
    {
     "name": "stderr",
     "output_type": "stream",
     "text": [
      "C:\\Users\\Owent\\AppData\\Local\\Temp\\ipykernel_29684\\2087247413.py:4: LangChainDeprecationWarning: The class `Ollama` was deprecated in LangChain 0.3.1 and will be removed in 1.0.0. An updated version of the class exists in the :class:`~langchain-ollama package and should be used instead. To use it run `pip install -U :class:`~langchain-ollama` and import as `from :class:`~langchain_ollama import OllamaLLM``.\n",
      "  llm = Ollama(model=\"mistral\", temperature=0)\n"
     ]
    }
   ],
   "source": [
    "from langchain_community.llms import Ollama\n",
    "\n",
    "# Define llm\n",
    "llm = Ollama(model=\"mistral\", temperature=0)"
   ]
  },
  {
   "cell_type": "code",
   "execution_count": 14,
   "metadata": {},
   "outputs": [],
   "source": [
    "from langchain.chains import RetrievalQA\n",
    "from langchain.chains.llm import LLMChain\n",
    "from langchain.chains.combine_documents.stuff import StuffDocumentsChain\n",
    "from langchain.prompts import PromptTemplate\n",
    "\n",
    "prompt = \"\"\"\n",
    "1. Use the following pieces of context to answer the question at the end.\n",
    "2. If you don't know the answer, just say that \"I am not too sure. Please refer to https://help.shopee.sg/portal/4/article/77152-Refunds-and-Return-Policy for more details\" but don't make up an answer on your own.\n",
    "3. If the question is completely irrelevant to Shopee's Refund Policy, you should simply reply with \"The question is not related to Shopee's Refund Policy\", and ask if the user would like to find out about Shopee's Refund Policy. \n",
    "4. For example, an irrelevant question like \"How is your day?\" would warrant the stated response. Additionally, if the question does not mention anything about a refund policy, it should warrant the stated response as well.\n",
    "5. If you are unsure if the question is relevant or not, you should reply with the above response as well.\n",
    "6. If the context provided does not help to answer the question, it means that the question is irrelevant, and you should reply with the above response.\n",
    "\n",
    "\n",
    "Context: {context}\n",
    "\n",
    "Question: {question}\n",
    "\n",
    "Helpful Answer:\"\"\"\n",
    "\n",
    "\n",
    "QA_CHAIN_PROMPT = PromptTemplate.from_template(prompt) \n",
    "\n",
    "llm_chain = LLMChain(\n",
    "                  llm=llm, \n",
    "                  prompt=QA_CHAIN_PROMPT, \n",
    "                  callbacks=None, \n",
    "                  verbose=True)\n",
    "\n",
    "document_prompt = PromptTemplate(\n",
    "    input_variables=[\"page_content\", \"source\"],\n",
    "    template=\"Context:\\ncontent:{page_content}\\nsource:{source}\",\n",
    ")\n",
    "\n",
    "combine_documents_chain = StuffDocumentsChain(\n",
    "                  llm_chain=llm_chain,\n",
    "                  document_variable_name=\"context\",\n",
    "                  document_prompt=document_prompt,\n",
    "                  callbacks=None,\n",
    "              )\n",
    "\n",
    "qa = RetrievalQA(\n",
    "                  combine_documents_chain=combine_documents_chain,\n",
    "                  verbose=True,\n",
    "                  retriever=retriever,\n",
    "                  return_source_documents=True,\n",
    "              )\n"
   ]
  },
  {
   "cell_type": "code",
   "execution_count": 17,
   "metadata": {},
   "outputs": [
    {
     "name": "stdout",
     "output_type": "stream",
     "text": [
      "\n",
      "\n",
      "\u001b[1m> Entering new RetrievalQA chain...\u001b[0m\n",
      "\n",
      "\n",
      "\u001b[1m> Entering new LLMChain chain...\u001b[0m\n",
      "Prompt after formatting:\n",
      "\u001b[32;1m\u001b[1;3m\n",
      "1. Use the following pieces of context to answer the question at the end.\n",
      "2. If you don't know the answer, just say that \"I am not too sure. Please refer to https://help.shopee.sg/portal/4/article/77152-Refunds-and-Return-Policy for more details\" but don't make up an answer on your own.\n",
      "3. If the question is completely irrelevant to Shopee's Refund Policy, you should simply reply with \"The question is not related to Shopee's Refund Policy\", and ask if the user would like to find out about Shopee's Refund Policy. \n",
      "For example, an irrelevant question like \"How is your day?\" would warrant the stated response. Additionally, if the question does not mention anything about a refund policy, it should warrant the stated response as well.\n",
      "\n",
      "Context: Context:\n",
      "content:Refunds and Return Policy\n",
      "\n",
      "1. Application for Returns/Refunds\n",
      "\n",
      " \n",
      "\n",
      "Subject to the terms and conditions in this Refunds and Return Policy and the Terms of Service, Buyer may apply for return of the purchased items (“Item”) and/or refund. For the avoidance of doubt, an application for a refund and/or return may be made whether prior to or after the expiry of the Shopee Guarantee Period as stated in the Terms of Service. Users may communicate with each other privately to resolve their differences prior, during or after using Shopee Guarantee. 2. Application for the Return of an Item\n",
      "\n",
      " \n",
      "\n",
      "Buyer may only apply for\n",
      "\n",
      "(i) the refund of the Item where such Item has not been received by Buyer (“Unreceived Items”), or\n",
      "\n",
      "(ii) the refund and/or return of an Item received by Buyer (“Received Items”) in the following circumstances:\n",
      "\n",
      "a) Buyer received an empty and/or suspicious parcel;\n",
      "\n",
      "b) The Item received was incomplete (missing quantity or accessories);\n",
      "\n",
      "c) Seller has delivered an Item that does not match the agreed specification (e.g. wrong size, colour, etc.) to Buyer;\n",
      "\n",
      "d) The Item was defective and/or faulty (e.g. does not work as intended);\n",
      "\n",
      "e) The Item received is an expired product;\n",
      "\n",
      "f) The Item received is a counterfeit product;\n",
      "\n",
      "g) The Item received has physical damage that was sustained during the delivery process (e.g shattered/broken Items, scratches/dents, damaged outer packaging, spilled liquid/contents);\n",
      "\n",
      "h) By way of private agreement with Seller and Seller must send his/her confirmation to Shopee confirming such agreement; and\n",
      "\n",
      "i) For change of mind provided that:\n",
      "\n",
      " \n",
      "\n",
      "i. The Items listed by Shopee at https://help.shopee.sg/portal/4/article/146601-[Return-Refund]-Change-of-Mind-Return-Policy?previousPage=search%20recommendation%20bar  shall not be eligible for Change of Mind refunds and/or returns;\n",
      "\n",
      " \n",
      "\n",
      "ii. Refunds and/or returns of Mall Items shall be governed by the Shopee Mall Terms of Service in addition to this Refunds and Return Policy;\n",
      "\n",
      " \n",
      "\n",
      "iii. Where applicable, Items must be returned to Seller: (a) in original packaging, (b) with original tags/labels attached, (c) new, sealed, and with no signs of usage (i.e. no stains, damages or signs of washing), (d) containing all Items, as sent by Seller, including all free gifts; and (e) in compliance with any other criteria determined by Shopee from time to time; and\n",
      "\n",
      " \n",
      "\n",
      "iv. The change of mind program is subject to conditions and exclusions, as determined by Shopee from time to time, at its sole discretion. Buyer’s application must be submitted via the Shopee mobile app in accordance with Section 2.1 or 2.2 (as the case may be). In the event where Buyer has commenced legal action against Seller, Buyer may provide the formal notification from the appropriate authority to Shopee to request Shopee to continue to hold the purchase monies until a formal determination is available. Shopee will, at its sole and absolute discretion, determine whether it is necessary to continue to hold such purchase monies. 2.1 Received Items\n",
      "\n",
      " \n",
      "\n",
      "Buyer may raise a refund and/or return request up to fifteen (15) days after (i) the day that the status on the Shopee app is updated as “Delivered” (in respect of a Received Item delivered by a third-party logistics partner identified on the Shopee platform as a “Shopee Supported Logistics partner” (“Shopee Supported Logistics Partner”), or (ii) the estimated delivery date (in respect of any other Received Item). Please note that, if required by Shopee, Buyer must (i) select their return shipping method on the Shopee app within three (3) days of being notified to do so, and (ii) ship the Received Item to the applicable return location for the selected return shipping method within seven (7) days after the return shipping method is selected. Non-compliance with such timeline will result in the automatic cancellation of Buyer’s refund and/or return request.\n",
      "source:Refund Policy Document.docx\n",
      "\n",
      "Context:\n",
      "content:Buyer acknowledges and agrees that Shopee’s decision is final, conclusive and binding, and covenants and agrees that it will not bring suit or otherwise assert any claim against Shopee or its affiliates in relation to such decision. 2.2 Unreceived Items\n",
      "\n",
      " \n",
      "\n",
      "Buyer may raise a refund request in respect of Unreceived Items:\n",
      "\n",
      "(i) (in respect of Unreceived Items to be delivered by Shopee Supported Logistics Partners) where the expected delivery date has passed or the status of the Unreceived Item on the Shopee app has been updated as \"Delivered\", but Buyer has not received the Unreceived Item, and\n",
      "\n",
      " \n",
      "\n",
      "(ii) (in respect of other Unreceived Items) at any time after the status of the Unreceived Item on the Shopee app has been updated as having been shipped out. The approval of your request for refund will be made by Shopee in its sole discretion, and shall be subject to your compliance with such conditions as may be specified by Shopee from time to time. Buyer acknowledges and agrees that Shopee’s decision is final, conclusive and binding, and covenants and agrees that it will not bring suit or otherwise assert any claim against Shopee or its affiliates in relation to such decision. 3. Rights of Non-Mall Sellers\n",
      "\n",
      " \n",
      "\n",
      "This section shall apply to all Sellers other than Mall Sellers (“Non-Mall Sellers”). Shopee’s determination to approve a refund and/or return of an Item pursuant to Section 2 above is binding on the relevant Non-Mall Seller. Non-Mall Sellers agree to comply and do all such things as necessary to give effect to a Buyer’s request for a refund or return approved by Shopee. Where Shopee approves any refund or return request that is raised in-app via the dispute resolutions centre (“Online Dispute”) or via webform after the Shopee Guarantee Period has elapsed (“Offline Dispute”), Non-Mall Seller may appeal such decision by contacting Shopee and providing evidence in support of such appeal. Any appeals must be made:(i) in the case of Online Disputes:\n",
      "\n",
      "(where the request relates to a refund without return of the Item) within three (3) days of the date the Buyer is refunded; and (where the request relates to the return and refund of an Item) within the Notification Period mentioned in the “Return Procedure” sub-section below, provided always that any dispute after the Buyer has been refunded may only be raised by Non-Mall Seller as an Offline Dispute; and\n",
      "\n",
      " \n",
      "\n",
      "(ii) in the case of Offline Disputes, within one (1) month of the date the Buyer is refunded.If Shopee upholds Non-Mall Seller’s appeal, it will disburse all or part of the purchase monies to Non-Mall Seller. Non-Mall Seller acknowledges and agrees that Shopee’s decision is final, conclusive and binding, and covenants and agrees that it will not bring suit or otherwise assert any claim against Shopee or its affiliates in relation to such decision. Return Procedure\n",
      "\n",
      " \n",
      "\n",
      "For any refund and return request approved by Shopee, Shopee will notify the Seller by email (“Email Notification”) and organize the delivery of the relevant returned Item to the address provided by the relevant Seller to Shopee in writing for the completion of the refund and return process, so long as such address is in the country in which the relevant Item was listed for sale on the Site (a “Local Address”). If Seller fails to provide a Local Address for return of the returned Item or otherwise fails to accept delivery of the returned Item within a reasonable period of time (as determined by Shopee), Shopee reserves the right to dispose of such Item in any manner it sees fit and Seller shall be deemed to have forfeited all rights to such Item. Seller must notify Shopee to confirm or dispute receipt of the returned item within the earlier of (i) two (2) days after the status in Seller Centre has been updated as “Delivered”, and (ii) five (5) days after receiving the Email Notification (“Notification Period”) if Seller does not receive the returned Item. Failure to notify Shopee within the Notification Period shall be conclusive evidence of, and result in the Seller having accepted that, the delivery of the Item has occurred, and Seller agrees not to make any claims or raise any disputes regarding any such Item. Notwithstanding the above, Shopee may determine at its sole and absolute discretion that an Item approved for refund and return shall not be returned to Seller, and Seller shall be deemed to have forfeited all rights to such Item. For any refund and return rejected by Shopee where the relevant Item was received by Shopee, Shopee will organize the delivery of such Item to the relevant Buyer’s address pursuant to Section 2 above. 4. Condition of Returning Item\n",
      "\n",
      " \n",
      "\n",
      "To enjoy a hassle-free experience when returning the Item, Buyer should ensure that the Item, including any complimentary items such as accessories that come with the Item, must be returned to Seller in the condition received by Buyer on delivery. We will recommend Buyer to take a photo of the Item upon receipt.\n",
      "source:Refund Policy Document.docx\n",
      "\n",
      "Question: How tall are you?\n",
      "\n",
      "Helpful Answer:\u001b[0m\n",
      "\n",
      "\u001b[1m> Finished chain.\u001b[0m\n",
      "\n",
      "\u001b[1m> Finished chain.\u001b[0m\n",
      " The text provided does not contain information about anyone's height.\n"
     ]
    }
   ],
   "source": [
    "print(qa(\"How tall are you?\")[\"result\"])"
   ]
  }
 ],
 "metadata": {
  "kernelspec": {
   "display_name": ".venv",
   "language": "python",
   "name": "python3"
  },
  "language_info": {
   "codemirror_mode": {
    "name": "ipython",
    "version": 3
   },
   "file_extension": ".py",
   "mimetype": "text/x-python",
   "name": "python",
   "nbconvert_exporter": "python",
   "pygments_lexer": "ipython3",
   "version": "3.12.7"
  }
 },
 "nbformat": 4,
 "nbformat_minor": 2
}
