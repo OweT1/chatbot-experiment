{
 "cells": [
  {
   "cell_type": "markdown",
   "metadata": {},
   "source": [
    "# Installing of necessary packages"
   ]
  },
  {
   "cell_type": "code",
   "execution_count": 1,
   "metadata": {},
   "outputs": [],
   "source": [
    "# %pip install -r requirements.txt"
   ]
  },
  {
   "cell_type": "code",
   "execution_count": 2,
   "metadata": {},
   "outputs": [],
   "source": [
    "from langchain_community.document_loaders import TextLoader\n",
    "from langchain_experimental.text_splitter import SemanticChunker\n",
    "from langchain.embeddings import HuggingFaceEmbeddings\n",
    "# from langchain_community.embeddings import HuggingFaceEmbeddings\n",
    "from langchain_community.vectorstores import FAISS\n",
    "from langchain_community.llms import Ollama\n",
    "from langchain.chains import RetrievalQA\n",
    "from langchain.chains.llm import LLMChain\n",
    "from langchain.chains.combine_documents.stuff import StuffDocumentsChain\n",
    "from langchain.prompts import PromptTemplate\n",
    "import faiss"
   ]
  },
  {
   "cell_type": "markdown",
   "metadata": {},
   "source": [
    "# Loading of Documents"
   ]
  },
  {
   "cell_type": "code",
   "execution_count": null,
   "metadata": {},
   "outputs": [],
   "source": [
    "loader = TextLoader('Refund Policy Document.txt', encoding = 'UTF-8')\n",
    "data = loader.load()"
   ]
  },
  {
   "cell_type": "code",
   "execution_count": 4,
   "metadata": {},
   "outputs": [],
   "source": [
    "# Takes way too long to run, we use fixed chunking with overlap instead\n",
    "\n",
    "# text_splitter = SemanticChunker(HuggingFaceEmbeddings())\n",
    "# documents = text_splitter.split_documents(data)"
   ]
  },
  {
   "cell_type": "code",
   "execution_count": null,
   "metadata": {},
   "outputs": [],
   "source": [
    "from langchain_text_splitters import RecursiveCharacterTextSplitter\n",
    "\n",
    "text_splitter = RecursiveCharacterTextSplitter(\n",
    "    chunk_size = 1000,\n",
    "    chunk_overlap = 200,\n",
    "    length_function = len\n",
    ")\n",
    "\n",
    "documents = text_splitter.split_documents(data)"
   ]
  },
  {
   "cell_type": "code",
   "execution_count": 6,
   "metadata": {},
   "outputs": [
    {
     "name": "stdout",
     "output_type": "stream",
     "text": [
      "Number of chunks created:  20\n",
      "\n",
      "CHUNK : 1\n",
      "1. Application for Returns/Refunds\n",
      " Subject to the terms and conditions in this Refunds and Return Policy and the Terms of Service, Buyer may apply for return of the purchased items (“Item”) and/or refund.\n",
      " For the avoidance of doubt, an application for a refund and/or return may be made whether prior to or after the expiry of the Shopee Guarantee Period as stated in the Terms of Service. Users may communicate with each other privately to resolve their differences prior, during or after using Shopee Guarantee.\n",
      " 2. Application for the Return of an Item\n",
      " Buyer may only apply for\n",
      "(i) the refund of the Item where such Item has not been received by Buyer (“Unreceived Items”), or\n",
      "(ii) the refund and/or return of an Item received by Buyer (“Received Items”) in the following circumstances:\n",
      "a) Buyer received an empty and/or suspicious parcel;\n",
      "b) The Item received was incomplete (missing quantity or accessories);\n",
      "\n",
      "CHUNK : 2\n",
      "a) Buyer received an empty and/or suspicious parcel;\n",
      "b) The Item received was incomplete (missing quantity or accessories);\n",
      "c) Seller has delivered an Item that does not match the agreed specification (e.g. wrong size, colour, etc.) to Buyer;\n",
      "d) The Item was defective and/or faulty (e.g. does not work as intended);\n",
      "e) The Item received is an expired product;\n",
      "f) The Item received is a counterfeit product;\n",
      "g) The Item received has physical damage that was sustained during the delivery process (e.g shattered/broken Items, scratches/dents, damaged outer packaging, spilled liquid/contents);\n",
      "h) By way of private agreement with Seller and Seller must send his/her confirmation to Shopee confirming such agreement; and\n",
      "i) For change of mind provided that:\n",
      " i. The Items listed by Shopee at https://help.shopee.sg/portal/4/article/146601-[Return-Refund]-Change-of-Mind-Return-Policy?previousPage=search%20recommendation%20bar  shall not be eligible for Change of Mind refunds and/or returns;\n",
      "\n",
      "CHUNK : 3\n",
      "ii. Refunds and/or returns of Mall Items shall be governed by the Shopee Mall Terms of Service in addition to this Refunds and Return Policy;\n",
      " iii. Where applicable, Items must be returned to Seller: (a) in original packaging, (b) with original tags/labels attached, (c) new, sealed, and with no signs of usage (i.e. no stains, damages or signs of washing), (d) containing all Items, as sent by Seller, including all free gifts; and (e) in compliance with any other criteria determined by Shopee from time to time; and\n",
      " iv. The change of mind program is subject to conditions and exclusions, as determined by Shopee from time to time, at its sole discretion.\n",
      "Buyer’s application must be submitted via the Shopee mobile app in accordance with Section 2.1 or 2.2 (as the case may be).\n",
      "\n",
      "CHUNK : 4\n",
      "Buyer’s application must be submitted via the Shopee mobile app in accordance with Section 2.1 or 2.2 (as the case may be).\n",
      " In the event where Buyer has commenced legal action against Seller, Buyer may provide the formal notification from the appropriate authority to Shopee to request Shopee to continue to hold the purchase monies until a formal determination is available. Shopee will, at its sole and absolute discretion, determine whether it is necessary to continue to hold such purchase monies.\n",
      " 2.1 Received Items\n",
      "\n",
      "CHUNK : 5\n",
      "Buyer may raise a refund and/or return request up to fifteen (15) days after (i) the day that the status on the Shopee app is updated as “Delivered” (in respect of a Received Item delivered by a third-party logistics partner identified on the Shopee platform as a “Shopee Supported Logistics partner” (“Shopee Supported Logistics Partner”), or (ii) the estimated delivery date (in respect of any other Received Item). Please note that, if required by Shopee, Buyer must (i) select their return shipping method on the Shopee app within three (3) days of being notified to do so, and (ii) ship the Received Item to the applicable return location for the selected return shipping method within seven (7) days after the return shipping method is selected. Non-compliance with such timeline will result in the automatic cancellation of Buyer’s refund and/or return request. The approval of your request for refund and/or return will be made by Shopee in its sole discretion, and shall be subject to your\n",
      "\n",
      "CHUNK : 6\n",
      "the automatic cancellation of Buyer’s refund and/or return request. The approval of your request for refund and/or return will be made by Shopee in its sole discretion, and shall be subject to your compliance with such conditions as may be specified by Shopee from time to time. Buyer acknowledges and agrees that Shopee’s decision is final, conclusive and binding, and covenants and agrees that it will not bring suit or otherwise assert any claim against Shopee or its affiliates in relation to such decision.\n",
      "\n",
      "CHUNK : 7\n",
      "2.2 Unreceived Items\n",
      " Buyer may raise a refund request in respect of Unreceived Items:\n",
      "(i) (in respect of Unreceived Items to be delivered by Shopee Supported Logistics Partners) where the expected delivery date has passed or the status of the Unreceived Item on the Shopee app has been updated as \"Delivered\", but Buyer has not received the Unreceived Item, and\n",
      " (ii) (in respect of other Unreceived Items) at any time after the status of the Unreceived Item on the Shopee app has been updated as having been shipped out.\n",
      " The approval of your request for refund will be made by Shopee in its sole discretion, and shall be subject to your compliance with such conditions as may be specified by Shopee from time to time. Buyer acknowledges and agrees that Shopee’s decision is final, conclusive and binding, and covenants and agrees that it will not bring suit or otherwise assert any claim against Shopee or its affiliates in relation to such decision.\n",
      " 3. Rights of Non-Mall Sellers\n",
      "\n",
      "CHUNK : 8\n",
      "3. Rights of Non-Mall Sellers\n",
      " This section shall apply to all Sellers other than Mall Sellers (“Non-Mall Sellers”).\n",
      " Shopee’s determination to approve a refund and/or return of an Item pursuant to Section 2 above is binding on the relevant Non-Mall Seller. Non-Mall Sellers agree to comply and do all such things as necessary to give effect to a Buyer’s request for a refund or return approved by Shopee.\n",
      " Where Shopee approves any refund or return request that is raised in-app via the dispute resolutions centre (“Online Dispute”) or via webform after the Shopee Guarantee Period has elapsed (“Offline Dispute”), Non-Mall Seller may appeal such decision by contacting Shopee and providing evidence in support of such appeal. Any appeals must be made:(i) in the case of Online Disputes:\n",
      "\n",
      "CHUNK : 9\n",
      "(where the request relates to a refund without return of the Item) within three (3) days of the date the Buyer is refunded; and (where the request relates to the return and refund of an Item) within the Notification Period mentioned in the “Return Procedure” sub-section below, provided always that any dispute after the Buyer has been refunded may only be raised by Non-Mall Seller as an Offline Dispute; and\n",
      " (ii) in the case of Offline Disputes, within one (1) month of the date the Buyer is refunded.If Shopee upholds Non-Mall Seller’s appeal, it will disburse all or part of the purchase monies to Non-Mall Seller. Non-Mall Seller acknowledges and agrees that Shopee’s decision is final, conclusive and binding, and covenants and agrees that it will not bring suit or otherwise assert any claim against Shopee or its affiliates in relation to such decision.\n",
      " Return Procedure\n",
      "\n",
      "CHUNK : 10\n",
      "For any refund and return request approved by Shopee, Shopee will notify the Seller by email (“Email Notification”) and organize the delivery of the relevant returned Item to the address provided by the relevant Seller to Shopee in writing for the completion of the refund and return process, so long as such address is in the country in which the relevant Item was listed for sale on the Site (a “Local Address”). If Seller fails to provide a Local Address for return of the returned Item or otherwise fails to accept delivery of the returned Item within a reasonable period of time (as determined by Shopee), Shopee reserves the right to dispose of such Item in any manner it sees fit and Seller shall be deemed to have forfeited all rights to such Item. Seller must notify Shopee to confirm or dispute receipt of the returned item within the earlier of (i) two (2) days after the status in Seller Centre has been updated as “Delivered”, and (ii) five (5) days after receiving the Email\n",
      "\n",
      "CHUNK : 11\n",
      "or dispute receipt of the returned item within the earlier of (i) two (2) days after the status in Seller Centre has been updated as “Delivered”, and (ii) five (5) days after receiving the Email Notification (“Notification Period”) if Seller does not receive the returned Item. Failure to notify Shopee within the Notification Period shall be conclusive evidence of, and result in the Seller having accepted that, the delivery of the Item has occurred, and Seller agrees not to make any claims or raise any disputes regarding any such Item.\n",
      "\n",
      "CHUNK : 12\n",
      "Notwithstanding the above, Shopee may determine at its sole and absolute discretion that an Item approved for refund and return shall not be returned to Seller, and Seller shall be deemed to have forfeited all rights to such Item.\n",
      " For any refund and return rejected by Shopee where the relevant Item was received by Shopee, Shopee will organize the delivery of such Item to the relevant Buyer’s address pursuant to Section 2 above.\n",
      " 4. Condition of Returning Item\n",
      " To enjoy a hassle-free experience when returning the Item, Buyer should ensure that the Item, including any complimentary items such as accessories that come with the Item, must be returned to Seller in the condition received by Buyer on delivery. We will recommend Buyer to take a photo of the Item upon receipt.\n",
      " 5. Liability for Product Return Shipping Fee\n",
      "\n",
      "CHUNK : 13\n",
      "5. Liability for Product Return Shipping Fee\n",
      " (i) Seller Fault Reasons: In the event that Shopee approves (at its sole discretion) a refund and/or return request for reasons that are attributable to Seller (as set out in Sections 2(ii)(a) to 2(ii)(f) above), Seller shall bear both (A) (if applicable) the total fees payable to the delivery company(ies) for returning the relevant Item(s) from Buyer to Shopee’s designated location, and from such location to the Seller (the “Return Shipping Fee”), in addition to (B) the Seller’s portion and the Buyer’s portion of the regular Shipping Fee (as defined in the Terms of Service) for the initial delivery of the Item(s) to the Buyer (“Forward Shipping Fee”).\n",
      "\n",
      "CHUNK : 14\n",
      "(ii) Non-Seller Fault Reasons: In the event that Shopee approves (at its sole discretion) a refund and/or return request for reasons that are not attributable to Seller (as set out in Sections 2(i) and 2(ii) (g)/(h), Seller shall not be liable to bear any Forward Shipping Fee or (if applicable) Return Shipping Fee. (iii) In the event that Shopee rejects (at its sole discretion) a refund and/or return request, Seller shall continue to bear the Seller’s portion of the Forward Shipping Fee but shall not be liable to bear (if applicable) any Return Shipping Fee. (iv) Seller may, within 30 days of the initial delivery date of an Item (or the return delivery date for any returned Item, as the case may be), appeal against Shopee's decision as to Seller's liability for any Forward Shipping Fee or Return Shipping Fee, as the case may be. Seller acknowledges and agrees that Shopee's decision is final, conclusive and binding, and covenants and agrees that it will not bring suit or otherwise\n",
      "\n",
      "CHUNK : 15\n",
      "or Return Shipping Fee, as the case may be. Seller acknowledges and agrees that Shopee's decision is final, conclusive and binding, and covenants and agrees that it will not bring suit or otherwise assert any claim against Shopee or its affiliates in relation to such decision.\n",
      "\n",
      "CHUNK : 16\n",
      "(v) Seller acknowledges that the actual payment flow for the Forward Shipping Fee and/or the Return Shipping Fee may vary depending on various factors (including whether the Shopee Guarantee Period had expired and/or the Buyer’s Purchase Monies had been disbursed to the Seller, at the time that the refund and/or return request was approved).\n",
      " a. Accordingly, Shopee shall have sole discretion as to how to operationalise the discharge of Seller’s liability for the Forward Shipping Fee and/or the Return Shipping Fee (as determined in accordance with Sections 5(i) to 5(iii) above), including by way of crediting and/or debiting the Seller’s Seller Balance.\n",
      "b. By way of example:\n",
      "\n",
      "CHUNK : 17\n",
      "b. By way of example:\n",
      "    i. where the Buyer’s Purchase Monies (less the Seller’s portion of the Forward Shipping Fee and other fees/taxes) had not yet been released to Seller, and the approved refund and/or return request was for a Seller Fault Reason, then the (a) Buyer’s portion and Seller’s portion of the Forward Shipping Fee and (ii) Return Shipping Fee may be debited from the Seller’s Seller Balance;\n",
      "     ii. where the Buyer’s Purchase Monies (less the Seller’s portion of the Forward Shipping Fee and other fees/taxes) had already been released to Seller, and the approved refund and/or return request was for:\n",
      " a Seller Fault Reason, then an amount equal to the Buyer’s Purchase Monies plus the Return Shipping Fee and the Buyer’s portion of the Forward Shipping Fee, may be debited from the Seller’s Seller Balance; or\n",
      "\n",
      "CHUNK : 18\n",
      "a Non-Seller Fault Reason, then [an amount equal to the Buyer’s Purchase Monies minus the Seller’s portion of the Forward Shipping Fee] may be debited from the Seller’s Seller Balance.\n",
      "(vi)    For the avoidance of doubt:\n",
      "a. Sections 5(i) to 5(v) above only address the issue of liability and payment flows for the Forward Shipping Fee and/or Return Shipping Fee, and shall not affect Seller’s liability for Transaction Fees and/or any other fees (which shall remain governed by the Shopee Policies).\n",
      "b. Sections 5(i) to 5(v) do not address the issue of compensation for the value of the actual returned and/or returned Item if the Item is not in a returnable condition. Such compensation may be provided if Shopee decides to do so at its sole discretion (including where Shopee determines that the damage or non-delivery of the Item was caused by Shopee’s logistics service provider).\n",
      "\n",
      "CHUNK : 19\n",
      "c. Sections 5(i) to 5(v) above do not apply in respect of Items that are not delivered by Shopee Supported Logistics Partners.\n",
      "  6. Refunds\n",
      " Buyer will only be refunded after Shopee has received the confirmation from Seller that Seller has received the returned Item, unless Shopee has elected to expedite such refund or does not require Buyer to return the Item. In the event where Shopee does not hear from Seller within a specified time, Shopee will be at liberty to refund the applicable sum to Buyer without further notice to Seller. The refund will be made to Buyer’s credit/debit card or designated bank account, whichever is applicable. In the event that a request for a refund has been approved by Shopee and the purchase monies had already been disbursed to Seller, Shopee may deduct the necessary amount from the Seller’s Seller Balance in accordance with the Terms of Service.\n",
      " 7. Communication Between Buyer and Seller\n",
      "\n",
      "CHUNK : 20\n",
      "7. Communication Between Buyer and Seller\n",
      " Shopee encourages Users to communicate with each other in the event where a problem arises in a transaction. As Shopee is a platform for Users to conduct trading, Buyer should contact Seller directly for any issue relating to the Item purchased.\n",
      " Last Updated: 19 June 2024\n"
     ]
    }
   ],
   "source": [
    "print(\"Number of chunks created: \", len(documents))\n",
    "\n",
    "for i in range(len(documents)):\n",
    "    print()\n",
    "    print(f\"CHUNK : {i+1}\")\n",
    "    print(documents[i].page_content)"
   ]
  },
  {
   "cell_type": "markdown",
   "metadata": {},
   "source": [
    "# Creation of Embeddings and Vector Store"
   ]
  },
  {
   "cell_type": "code",
   "execution_count": 7,
   "metadata": {},
   "outputs": [
    {
     "name": "stderr",
     "output_type": "stream",
     "text": [
      "C:\\Users\\Owent\\AppData\\Local\\Temp\\ipykernel_55372\\371343745.py:1: LangChainDeprecationWarning: The class `HuggingFaceEmbeddings` was deprecated in LangChain 0.2.2 and will be removed in 1.0. An updated version of the class exists in the :class:`~langchain-huggingface package and should be used instead. To use it run `pip install -U :class:`~langchain-huggingface` and import as `from :class:`~langchain_huggingface import HuggingFaceEmbeddings``.\n",
      "  embeddings = HuggingFaceEmbeddings(\n",
      "c:\\Users\\Owent\\AppData\\Local\\Programs\\Python\\Python310\\lib\\site-packages\\tqdm\\auto.py:21: TqdmWarning: IProgress not found. Please update jupyter and ipywidgets. See https://ipywidgets.readthedocs.io/en/stable/user_install.html\n",
      "  from .autonotebook import tqdm as notebook_tqdm\n",
      "c:\\Users\\Owent\\AppData\\Local\\Programs\\Python\\Python310\\lib\\site-packages\\threadpoolctl.py:1214: RuntimeWarning: \n",
      "Found Intel OpenMP ('libiomp') and LLVM OpenMP ('libomp') loaded at\n",
      "the same time. Both libraries are known to be incompatible and this\n",
      "can cause random crashes or deadlocks on Linux when loaded in the\n",
      "same Python program.\n",
      "Using threadpoolctl may cause crashes or deadlocks. For more\n",
      "information and possible workarounds, please see\n",
      "    https://github.com/joblib/threadpoolctl/blob/master/multiple_openmp.md\n",
      "\n",
      "  warnings.warn(msg, RuntimeWarning)\n",
      "c:\\Users\\Owent\\AppData\\Local\\Programs\\Python\\Python310\\lib\\site-packages\\torchvision\\datapoints\\__init__.py:12: UserWarning: The torchvision.datapoints and torchvision.transforms.v2 namespaces are still Beta. While we do not expect major breaking changes, some APIs may still change according to user feedback. Please submit any feedback you may have in this issue: https://github.com/pytorch/vision/issues/6753, and you can also check out https://github.com/pytorch/vision/issues/7319 to learn more about the APIs that we suspect might involve future changes. You can silence this warning by calling torchvision.disable_beta_transforms_warning().\n",
      "  warnings.warn(_BETA_TRANSFORMS_WARNING)\n",
      "c:\\Users\\Owent\\AppData\\Local\\Programs\\Python\\Python310\\lib\\site-packages\\torchvision\\transforms\\v2\\__init__.py:54: UserWarning: The torchvision.datapoints and torchvision.transforms.v2 namespaces are still Beta. While we do not expect major breaking changes, some APIs may still change according to user feedback. Please submit any feedback you may have in this issue: https://github.com/pytorch/vision/issues/6753, and you can also check out https://github.com/pytorch/vision/issues/7319 to learn more about the APIs that we suspect might involve future changes. You can silence this warning by calling torchvision.disable_beta_transforms_warning().\n",
      "  warnings.warn(_BETA_TRANSFORMS_WARNING)\n"
     ]
    },
    {
     "name": "stdout",
     "output_type": "stream",
     "text": [
      "WARNING:tensorflow:From c:\\Users\\Owent\\AppData\\Local\\Programs\\Python\\Python310\\lib\\site-packages\\tf_keras\\src\\losses.py:2976: The name tf.losses.sparse_softmax_cross_entropy is deprecated. Please use tf.compat.v1.losses.sparse_softmax_cross_entropy instead.\n",
      "\n"
     ]
    }
   ],
   "source": [
    "embeddings = HuggingFaceEmbeddings(\n",
    "    model_name=\"sentence-transformers/all-MiniLM-L6-v2\",  # 384-dim, 5x faster\n",
    "    model_kwargs={'device': 'cpu'},  # Change to 'cuda' if GPU available\n",
    "    encode_kwargs={\n",
    "        'batch_size': 512,  # Process 512 docs at once\n",
    "        'normalize_embeddings': True\n",
    "    }\n",
    ")\n",
    "\n",
    "# Create Vector Store\n",
    "vector_store = FAISS.from_documents(\n",
    "        documents=documents,\n",
    "        embedding=embeddings,\n",
    ")\n",
    "\n",
    "# Creates retriever for the vector store, based on cosine similarity, find top 3 closest documents with a minimum score threshold of 0.75\n",
    "retriever = vector_store.as_retriever(search_type=\"similarity\", search_kwargs={\"k\": 3, \"score_threshold\": 0.75})\n",
    "\n",
    "# retrieved_docs = retriever.invoke(\"What is the refund policy?\")\n",
    "# print(retrieved_docs[0])"
   ]
  },
  {
   "cell_type": "markdown",
   "metadata": {},
   "source": [
    "# Creating of Chat model and Prompt"
   ]
  },
  {
   "cell_type": "code",
   "execution_count": null,
   "metadata": {},
   "outputs": [
    {
     "name": "stderr",
     "output_type": "stream",
     "text": [
      "C:\\Users\\Owent\\AppData\\Local\\Temp\\ipykernel_55372\\2434474837.py:2: LangChainDeprecationWarning: The class `Ollama` was deprecated in LangChain 0.3.1 and will be removed in 1.0.0. An updated version of the class exists in the :class:`~langchain-ollama package and should be used instead. To use it run `pip install -U :class:`~langchain-ollama` and import as `from :class:`~langchain_ollama import OllamaLLM``.\n",
      "  llm = Ollama(\n"
     ]
    }
   ],
   "source": [
    "# Define the Ollama LLM\n",
    "llm = Ollama(\n",
    "    model=\"mistral\", \n",
    "    temperature=0,\n",
    "    num_gpu=1,  # Enable GPU\n",
    "    num_thread=8\n",
    "    )"
   ]
  },
  {
   "cell_type": "code",
   "execution_count": 34,
   "metadata": {},
   "outputs": [],
   "source": [
    "prompt = \"\"\"\n",
    "You are Shopee's Refund Policy Bot. You are tasked to answer questions related to Shopee's Refund Policy.\n",
    "If there is no provided context, only reply with: \"I am only tasked to reply questions related to Shopee's Refund Policy.\"\n",
    "For questions related to Shopee, use the provided context to answer the question at the end.\n",
    "Do not make up answers or provide information beyond the context.\n",
    "Always end your answer with \"Please refer to https://help.shopee.sg/portal/4/article/77152-Refunds-and-Return-Policy for more details.\"\n",
    "\n",
    "Context: {context}\n",
    "\n",
    "Question: {question}\n",
    "\n",
    "Helpful Answer:\"\"\"\n",
    "\n",
    "# prompt = \"\"\"\n",
    "# 1. Use the provided context to answer the question at the end.\n",
    "# 2. If the question is unrelated to Shopee's Refund Policy or lacks sufficient context, respond with:  \n",
    "#    \"The question is not related to Shopee's Refund Policy.\"\n",
    "# 3. If you cannot confidently answer based on the context, reply with:  \n",
    "#    \"I am not too sure. Please refer to https://help.shopee.sg/portal/4/article/77152-Refunds-and-Return-Policy for more details.\"\n",
    "# 4. Do not make up answers or provide information beyond the context.\n",
    "\n",
    "# Context: {context}\n",
    "\n",
    "# Question: {question}\n",
    "\n",
    "# Helpful Answer:\"\"\"\n",
    "\n",
    "# Creating of Prompt Template\n",
    "QA_CHAIN_PROMPT = PromptTemplate.from_template(prompt) \n",
    "\n",
    "# Creation of LLM Chain\n",
    "llm_chain = LLMChain(\n",
    "    llm=llm, \n",
    "    prompt=QA_CHAIN_PROMPT, \n",
    "    callbacks=None, \n",
    "    verbose=True\n",
    ")\n",
    "\n",
    "# To display Context content and source\n",
    "document_prompt = PromptTemplate(\n",
    "    input_variables=[\"page_content\", \"source\"],\n",
    "    template=\"\\nContent:{page_content}\\nSource:{source}\",\n",
    ")\n",
    "\n",
    "# Combining of both LLM Chain and Prompt Template\n",
    "combine_documents_chain = StuffDocumentsChain(\n",
    "    llm_chain=llm_chain,\n",
    "    document_variable_name=\"context\",\n",
    "    document_prompt=document_prompt,\n",
    "    callbacks=None,\n",
    ")\n",
    "\n",
    "# Creation of actual Question Answering\n",
    "qa = RetrievalQA(\n",
    "    combine_documents_chain=combine_documents_chain,\n",
    "    verbose=True,\n",
    "    retriever=retriever,\n",
    "    return_source_documents=True,\n",
    ")\n",
    "\n",
    "# Alternate QA\n",
    "# qa = RetrievalQA.from_chain_type(\n",
    "#     llm=llm,\n",
    "#     chain_type=\"stuff\",\n",
    "#     retriever=retriever,\n",
    "#     chain_type_kwargs={\"prompt\": QA_CHAIN_PROMPT},\n",
    "#     return_source_documents=True\n",
    "# )"
   ]
  },
  {
   "cell_type": "code",
   "execution_count": null,
   "metadata": {},
   "outputs": [
    {
     "name": "stdout",
     "output_type": "stream",
     "text": [
      "\n",
      "\n",
      "\u001b[1m> Entering new RetrievalQA chain...\u001b[0m\n",
      "\n",
      "\n",
      "\u001b[1m> Entering new LLMChain chain...\u001b[0m\n",
      "Prompt after formatting:\n",
      "\u001b[32;1m\u001b[1;3m\n",
      "You are Shopee's Refund Policy Bot. You are tasked to answer questions related to Shopee's Refund Policy.\n",
      "If there is no provided context, only reply with: \"I am only tasked to reply questions related to Shopee's Refund Policy.\"\n",
      "For questions related to Shopee, use the provided context to answer the question at the end.\n",
      "Do not make up answers or provide information beyond the context.\n",
      "Always end your answer with \"Please refer to https://help.shopee.sg/portal/4/article/77152-Refunds-and-Return-Policy for more details.\"\n",
      "\n",
      "Context: \n",
      "Content:the automatic cancellation of Buyer’s refund and/or return request. The approval of your request for refund and/or return will be made by Shopee in its sole discretion, and shall be subject to your compliance with such conditions as may be specified by Shopee from time to time. Buyer acknowledges and agrees that Shopee’s decision is final, conclusive and binding, and covenants and agrees that it will not bring suit or otherwise assert any claim against Shopee or its affiliates in relation to such decision.\n",
      "Source:Refund Policy Document.txt\n",
      "\n",
      "\n",
      "Content:c. Sections 5(i) to 5(v) above do not apply in respect of Items that are not delivered by Shopee Supported Logistics Partners.\n",
      "  6. Refunds\n",
      " Buyer will only be refunded after Shopee has received the confirmation from Seller that Seller has received the returned Item, unless Shopee has elected to expedite such refund or does not require Buyer to return the Item. In the event where Shopee does not hear from Seller within a specified time, Shopee will be at liberty to refund the applicable sum to Buyer without further notice to Seller. The refund will be made to Buyer’s credit/debit card or designated bank account, whichever is applicable. In the event that a request for a refund has been approved by Shopee and the purchase monies had already been disbursed to Seller, Shopee may deduct the necessary amount from the Seller’s Seller Balance in accordance with the Terms of Service.\n",
      " 7. Communication Between Buyer and Seller\n",
      "Source:Refund Policy Document.txt\n",
      "\n",
      "\n",
      "Content:1. Application for Returns/Refunds\n",
      " Subject to the terms and conditions in this Refunds and Return Policy and the Terms of Service, Buyer may apply for return of the purchased items (“Item”) and/or refund.\n",
      " For the avoidance of doubt, an application for a refund and/or return may be made whether prior to or after the expiry of the Shopee Guarantee Period as stated in the Terms of Service. Users may communicate with each other privately to resolve their differences prior, during or after using Shopee Guarantee.\n",
      " 2. Application for the Return of an Item\n",
      " Buyer may only apply for\n",
      "(i) the refund of the Item where such Item has not been received by Buyer (“Unreceived Items”), or\n",
      "(ii) the refund and/or return of an Item received by Buyer (“Received Items”) in the following circumstances:\n",
      "a) Buyer received an empty and/or suspicious parcel;\n",
      "b) The Item received was incomplete (missing quantity or accessories);\n",
      "Source:Refund Policy Document.txt\n",
      "\n",
      "Question: What is Shopee's Refund Policy?\n",
      "\n",
      "Helpful Answer:\u001b[0m\n"
     ]
    }
   ],
   "source": [
    "print(qa(\"What is Shopee's Refund Policy?\")['result'])"
   ]
  },
  {
   "cell_type": "code",
   "execution_count": null,
   "metadata": {},
   "outputs": [
    {
     "name": "stdout",
     "output_type": "stream",
     "text": [
      "\n",
      "\n",
      "\u001b[1m> Entering new RetrievalQA chain...\u001b[0m\n",
      "\n",
      "\n",
      "\u001b[1m> Entering new LLMChain chain...\u001b[0m\n",
      "Prompt after formatting:\n",
      "\u001b[32;1m\u001b[1;3m\n",
      "You are Shopee's Refund Policy Bot. You are tasked to answer questions related to Shopee's Refund Policy.\n",
      "If there is no provided context, only reply with: \"I am only tasked to reply questions related to Shopee's Refund Policy. Please refer to https://help.shopee.sg/portal/4/article/77152-Refunds-and-Return-Policy for more details.\"\n",
      "For questions related to Shopee, use the provided context to answer the question at the end.\n",
      "Do not make up answers or provide information beyond the context.\n",
      "\n",
      "Context: \n",
      "\n",
      "Question: How are you?\n",
      "\n",
      "Helpful Answer:\u001b[0m\n",
      "\n",
      "\u001b[1m> Finished chain.\u001b[0m\n",
      "\n",
      "\u001b[1m> Finished chain.\u001b[0m\n",
      " I am a bot designed to help with Shopee's Refund Policy inquiries. I don't have feelings, but I'm here and ready to assist you! If you have any questions about refunds on Shopee, feel free to ask.\n"
     ]
    }
   ],
   "source": [
    "print(qa(\"How are you?\")[\"result\"])"
   ]
  }
 ],
 "metadata": {
  "kernelspec": {
   "display_name": "Python 3",
   "language": "python",
   "name": "python3"
  },
  "language_info": {
   "codemirror_mode": {
    "name": "ipython",
    "version": 3
   },
   "file_extension": ".py",
   "mimetype": "text/x-python",
   "name": "python",
   "nbconvert_exporter": "python",
   "pygments_lexer": "ipython3",
   "version": "3.10.6"
  }
 },
 "nbformat": 4,
 "nbformat_minor": 2
}
